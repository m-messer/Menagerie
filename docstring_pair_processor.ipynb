{
 "cells": [
  {
   "cell_type": "code",
   "execution_count": 108,
   "id": "initial_id",
   "metadata": {
    "collapsed": true,
    "ExecuteTime": {
     "end_time": "2024-07-22T13:38:33.051686Z",
     "start_time": "2024-07-22T13:38:33.042190Z"
    }
   },
   "outputs": [],
   "source": [
    "import function_parser\n",
    "import os\n",
    "\n",
    "import pandas as pd\n",
    "\n",
    "from function_parser.language_data import LANGUAGE_METADATA\n",
    "from function_parser.process import DataProcessor\n",
    "from tree_sitter import Language"
   ]
  },
  {
   "cell_type": "markdown",
   "source": [
    "# Build Dataset of Docstring and Code Pairs\n",
    "### Build Grammers"
   ],
   "metadata": {
    "collapsed": false
   },
   "id": "f7b26fd67369eecd"
  },
  {
   "cell_type": "code",
   "outputs": [],
   "source": [
    "!build_grammars"
   ],
   "metadata": {
    "collapsed": false,
    "ExecuteTime": {
     "end_time": "2024-07-22T13:38:33.556975Z",
     "start_time": "2024-07-22T13:38:33.054263Z"
    }
   },
   "id": "edda3d61c7b1c5eb",
   "execution_count": 109
  },
  {
   "cell_type": "markdown",
   "source": [
    "## Process Assignments"
   ],
   "metadata": {
    "collapsed": false
   },
   "id": "8d39b6145313f115"
  },
  {
   "cell_type": "code",
   "outputs": [],
   "source": [
    "language = 'java'\n",
    "DataProcessor.PARSER.set_language(Language(os.path.join(function_parser.__path__[0], \"tree-sitter-languages.so\"), language))\n",
    "processor = DataProcessor(language=language, language_parser=LANGUAGE_METADATA[language]['language_parser'])\n",
    "\n",
    "ASSIGNMENTS_PATH = 'data/anonymised_assignments'\n",
    "\n",
    "pairs = []\n",
    "\n",
    "for root, _, files in os.walk(ASSIGNMENTS_PATH):\n",
    "    assignment_number = root.split('_')[-1].split('/')[0]\n",
    "    \n",
    "    for file in files:\n",
    "        if not file.endswith('.java'):\n",
    "            continue\n",
    "            \n",
    "        path = os.path.join(root,file)\n",
    "        definitions = processor.process_single_file(path)\n",
    "\n",
    "        def_df = pd.DataFrame(definitions)\n",
    "        def_df['assignment_number'] = assignment_number\n",
    "        def_df['path'] = path\n",
    "        \n",
    "        pairs.append(def_df)\n",
    "assignment_df = pd.concat(pairs)"
   ],
   "metadata": {
    "collapsed": false,
    "ExecuteTime": {
     "end_time": "2024-07-22T13:39:25.837089Z",
     "start_time": "2024-07-22T13:38:33.558238Z"
    }
   },
   "id": "2e63b73253fa90a2",
   "execution_count": 110
  },
  {
   "cell_type": "code",
   "outputs": [
    {
     "data": {
      "text/plain": "  nwo sha                                               path language  \\\n0          data/anonymised_assignments/20~21/20~21_Submis...     java   \n1          data/anonymised_assignments/20~21/20~21_Submis...     java   \n2          data/anonymised_assignments/20~21/20~21_Submis...     java   \n3          data/anonymised_assignments/20~21/20~21_Submis...     java   \n4          data/anonymised_assignments/20~21/20~21_Submis...     java   \n\n    identifier parameters argument_list return_statement  \\\n0  Randomizer.                                             \n1  Randomizer.                                             \n2     Counter.                                             \n3     Counter.                                             \n4     Counter.                                             \n\n                                           docstring  \\\n0  Provide a random generator.\\n@return A random ...   \n1  Reset the randomization.\\nThis will have no ef...   \n2        @return The short description of this type.   \n3           @return The current count for this type.   \n4                Increment the current count by one.   \n\n                                   docstring_summary  \\\n0                        Provide a random generator.   \n1  Reset the randomization.\\nThis will have no ef...   \n2                                                      \n3                                                      \n4                Increment the current count by one.   \n\n                                    docstring_tokens  \\\n0                 [Provide, a, random, generator, .]   \n1  [Reset, the, randomization, ., This, will, hav...   \n2                                                 []   \n3                                                 []   \n4       [Increment, the, current, count, by, one, .]   \n\n                                            function  \\\n0  public static Random getRandom()\\n    {\\n     ...   \n1  public static void reset()\\n    {\\n        if(...   \n2  public String getName()\\n    {\\n        return...   \n3  public int getCount()\\n    {\\n        return c...   \n4  public void increment()\\n    {\\n        count+...   \n\n                                     function_tokens  \\\n0  [public, static, Random, getRandom, (, ), {, i...   \n1  [public, static, void, reset, (, ), {, if, (, ...   \n2  [public, String, getName, (, ), {, return, nam...   \n3  [public, int, getCount, (, ), {, return, count...   \n4  [public, void, increment, (, ), {, count, ++, ...   \n\n                                  url  assignment_number  \n0  https://github.com//blob//#L30-L38                290  \n1  https://github.com//blob//#L45-L50                290  \n2  https://github.com//blob//#L31-L34                290  \n3  https://github.com//blob//#L39-L42                290  \n4  https://github.com//blob//#L47-L50                290  ",
      "text/html": "<div>\n<style scoped>\n    .dataframe tbody tr th:only-of-type {\n        vertical-align: middle;\n    }\n\n    .dataframe tbody tr th {\n        vertical-align: top;\n    }\n\n    .dataframe thead th {\n        text-align: right;\n    }\n</style>\n<table border=\"1\" class=\"dataframe\">\n  <thead>\n    <tr style=\"text-align: right;\">\n      <th></th>\n      <th>nwo</th>\n      <th>sha</th>\n      <th>path</th>\n      <th>language</th>\n      <th>identifier</th>\n      <th>parameters</th>\n      <th>argument_list</th>\n      <th>return_statement</th>\n      <th>docstring</th>\n      <th>docstring_summary</th>\n      <th>docstring_tokens</th>\n      <th>function</th>\n      <th>function_tokens</th>\n      <th>url</th>\n      <th>assignment_number</th>\n    </tr>\n  </thead>\n  <tbody>\n    <tr>\n      <th>0</th>\n      <td></td>\n      <td></td>\n      <td>data/anonymised_assignments/20~21/20~21_Submis...</td>\n      <td>java</td>\n      <td>Randomizer.</td>\n      <td></td>\n      <td></td>\n      <td></td>\n      <td>Provide a random generator.\\n@return A random ...</td>\n      <td>Provide a random generator.</td>\n      <td>[Provide, a, random, generator, .]</td>\n      <td>public static Random getRandom()\\n    {\\n     ...</td>\n      <td>[public, static, Random, getRandom, (, ), {, i...</td>\n      <td>https://github.com//blob//#L30-L38</td>\n      <td>290</td>\n    </tr>\n    <tr>\n      <th>1</th>\n      <td></td>\n      <td></td>\n      <td>data/anonymised_assignments/20~21/20~21_Submis...</td>\n      <td>java</td>\n      <td>Randomizer.</td>\n      <td></td>\n      <td></td>\n      <td></td>\n      <td>Reset the randomization.\\nThis will have no ef...</td>\n      <td>Reset the randomization.\\nThis will have no ef...</td>\n      <td>[Reset, the, randomization, ., This, will, hav...</td>\n      <td>public static void reset()\\n    {\\n        if(...</td>\n      <td>[public, static, void, reset, (, ), {, if, (, ...</td>\n      <td>https://github.com//blob//#L45-L50</td>\n      <td>290</td>\n    </tr>\n    <tr>\n      <th>2</th>\n      <td></td>\n      <td></td>\n      <td>data/anonymised_assignments/20~21/20~21_Submis...</td>\n      <td>java</td>\n      <td>Counter.</td>\n      <td></td>\n      <td></td>\n      <td></td>\n      <td>@return The short description of this type.</td>\n      <td></td>\n      <td>[]</td>\n      <td>public String getName()\\n    {\\n        return...</td>\n      <td>[public, String, getName, (, ), {, return, nam...</td>\n      <td>https://github.com//blob//#L31-L34</td>\n      <td>290</td>\n    </tr>\n    <tr>\n      <th>3</th>\n      <td></td>\n      <td></td>\n      <td>data/anonymised_assignments/20~21/20~21_Submis...</td>\n      <td>java</td>\n      <td>Counter.</td>\n      <td></td>\n      <td></td>\n      <td></td>\n      <td>@return The current count for this type.</td>\n      <td></td>\n      <td>[]</td>\n      <td>public int getCount()\\n    {\\n        return c...</td>\n      <td>[public, int, getCount, (, ), {, return, count...</td>\n      <td>https://github.com//blob//#L39-L42</td>\n      <td>290</td>\n    </tr>\n    <tr>\n      <th>4</th>\n      <td></td>\n      <td></td>\n      <td>data/anonymised_assignments/20~21/20~21_Submis...</td>\n      <td>java</td>\n      <td>Counter.</td>\n      <td></td>\n      <td></td>\n      <td></td>\n      <td>Increment the current count by one.</td>\n      <td>Increment the current count by one.</td>\n      <td>[Increment, the, current, count, by, one, .]</td>\n      <td>public void increment()\\n    {\\n        count+...</td>\n      <td>[public, void, increment, (, ), {, count, ++, ...</td>\n      <td>https://github.com//blob//#L47-L50</td>\n      <td>290</td>\n    </tr>\n  </tbody>\n</table>\n</div>"
     },
     "execution_count": 111,
     "metadata": {},
     "output_type": "execute_result"
    }
   ],
   "source": [
    "assignment_df = assignment_df.reset_index(drop=True)\n",
    "assignment_df['assignment_number'] = assignment_df['assignment_number'].astype('int')\n",
    "assignment_df = assignment_df.dropna(axis='columns')\n",
    "assignment_df.head()"
   ],
   "metadata": {
    "collapsed": false,
    "ExecuteTime": {
     "end_time": "2024-07-22T13:39:25.940082Z",
     "start_time": "2024-07-22T13:39:25.839236Z"
    }
   },
   "id": "46e1d9030475e885",
   "execution_count": 111
  },
  {
   "cell_type": "markdown",
   "source": [
    "### Process Grades"
   ],
   "metadata": {
    "collapsed": false
   },
   "id": "f625c0967f914eaa"
  },
  {
   "cell_type": "code",
   "outputs": [
    {
     "data": {
      "text/plain": "    assignment_number                                           comments  \\\n9                 686                                                NaN   \n9                 686  Good use of comments. Each function block comm...   \n9                 686                                                NaN   \n9                 686  The code documentation is good overall, howeve...   \n13                685                                                NaN   \n..                ...                                                ...   \n7                   6                                                NaN   \n9                   2  Your documentation is thorough and well-organi...   \n9                   2                                                NaN   \n9                   2  Overall good comments and documentation across...   \n9                   2           Clear, concise, accurate documentation.    \n\n            skill  participant_id  batch grade  \n9   Documentation              25      2    A+  \n9   Documentation              27      2    A-  \n9   Documentation              26      2     A  \n9   Documentation              28      2    B-  \n13  Documentation              23      2    C-  \n..            ...             ...    ...   ...  \n7   Documentation              25      1    A-  \n9   Documentation              15      1     A  \n9   Documentation              14      1    A+  \n9   Documentation              16      1     B  \n9   Documentation              13      1   A++  \n\n[1102 rows x 6 columns]",
      "text/html": "<div>\n<style scoped>\n    .dataframe tbody tr th:only-of-type {\n        vertical-align: middle;\n    }\n\n    .dataframe tbody tr th {\n        vertical-align: top;\n    }\n\n    .dataframe thead th {\n        text-align: right;\n    }\n</style>\n<table border=\"1\" class=\"dataframe\">\n  <thead>\n    <tr style=\"text-align: right;\">\n      <th></th>\n      <th>assignment_number</th>\n      <th>comments</th>\n      <th>skill</th>\n      <th>participant_id</th>\n      <th>batch</th>\n      <th>grade</th>\n    </tr>\n  </thead>\n  <tbody>\n    <tr>\n      <th>9</th>\n      <td>686</td>\n      <td>NaN</td>\n      <td>Documentation</td>\n      <td>25</td>\n      <td>2</td>\n      <td>A+</td>\n    </tr>\n    <tr>\n      <th>9</th>\n      <td>686</td>\n      <td>Good use of comments. Each function block comm...</td>\n      <td>Documentation</td>\n      <td>27</td>\n      <td>2</td>\n      <td>A-</td>\n    </tr>\n    <tr>\n      <th>9</th>\n      <td>686</td>\n      <td>NaN</td>\n      <td>Documentation</td>\n      <td>26</td>\n      <td>2</td>\n      <td>A</td>\n    </tr>\n    <tr>\n      <th>9</th>\n      <td>686</td>\n      <td>The code documentation is good overall, howeve...</td>\n      <td>Documentation</td>\n      <td>28</td>\n      <td>2</td>\n      <td>B-</td>\n    </tr>\n    <tr>\n      <th>13</th>\n      <td>685</td>\n      <td>NaN</td>\n      <td>Documentation</td>\n      <td>23</td>\n      <td>2</td>\n      <td>C-</td>\n    </tr>\n    <tr>\n      <th>...</th>\n      <td>...</td>\n      <td>...</td>\n      <td>...</td>\n      <td>...</td>\n      <td>...</td>\n      <td>...</td>\n    </tr>\n    <tr>\n      <th>7</th>\n      <td>6</td>\n      <td>NaN</td>\n      <td>Documentation</td>\n      <td>25</td>\n      <td>1</td>\n      <td>A-</td>\n    </tr>\n    <tr>\n      <th>9</th>\n      <td>2</td>\n      <td>Your documentation is thorough and well-organi...</td>\n      <td>Documentation</td>\n      <td>15</td>\n      <td>1</td>\n      <td>A</td>\n    </tr>\n    <tr>\n      <th>9</th>\n      <td>2</td>\n      <td>NaN</td>\n      <td>Documentation</td>\n      <td>14</td>\n      <td>1</td>\n      <td>A+</td>\n    </tr>\n    <tr>\n      <th>9</th>\n      <td>2</td>\n      <td>Overall good comments and documentation across...</td>\n      <td>Documentation</td>\n      <td>16</td>\n      <td>1</td>\n      <td>B</td>\n    </tr>\n    <tr>\n      <th>9</th>\n      <td>2</td>\n      <td>Clear, concise, accurate documentation.</td>\n      <td>Documentation</td>\n      <td>13</td>\n      <td>1</td>\n      <td>A++</td>\n    </tr>\n  </tbody>\n</table>\n<p>1102 rows × 6 columns</p>\n</div>"
     },
     "execution_count": 112,
     "metadata": {},
     "output_type": "execute_result"
    }
   ],
   "source": [
    "grades_df = pd.read_csv('data/grades.csv', index_col=0)\n",
    "grades_df['assignment_number'] = grades_df['assignment_number'].astype(int)\n",
    "grades_df['grade'] = pd.Categorical(grades_df['grade'],\n",
    "                                                        ['A++', 'A+', 'A', 'A-',\n",
    "                                                         'B+', 'B', 'B-',\n",
    "                                                         'C+', 'C', 'C-',\n",
    "                                                         'D+', 'D', 'D-',\n",
    "                                                         'F'])\n",
    "grades_df = grades_df[grades_df['skill'] == 'Documentation']\n",
    "grades_df = grades_df.sort_values(by='assignment_number', ascending=False)\n",
    "grades_df = grades_df.dropna(subset=['grade'])\n",
    "grades_df"
   ],
   "metadata": {
    "collapsed": false,
    "ExecuteTime": {
     "end_time": "2024-07-22T13:39:25.953872Z",
     "start_time": "2024-07-22T13:39:25.941088Z"
    }
   },
   "id": "2cbfa077c7d10a6e",
   "execution_count": 112
  },
  {
   "cell_type": "code",
   "outputs": [
    {
     "data": {
      "text/plain": "{0: 'A++',\n 1: 'A+',\n 2: 'A',\n 3: 'A-',\n 4: 'B+',\n 5: 'B',\n 6: 'B-',\n 7: 'C+',\n 8: 'C',\n 9: 'C-',\n 10: 'D+',\n 11: 'D',\n 12: 'D-',\n 13: 'F'}"
     },
     "execution_count": 113,
     "metadata": {},
     "output_type": "execute_result"
    }
   ],
   "source": [
    "grade_code_dict = {k:v for k, v in dict(enumerate(grades_df['grade'].cat.categories)).items()}\n",
    "grade_code_dict"
   ],
   "metadata": {
    "collapsed": false,
    "ExecuteTime": {
     "end_time": "2024-07-22T13:39:25.957487Z",
     "start_time": "2024-07-22T13:39:25.954676Z"
    }
   },
   "id": "45d1b32ef2f4cd20",
   "execution_count": 113
  },
  {
   "cell_type": "code",
   "outputs": [
    {
     "data": {
      "text/plain": "     assignment_number  grade_code grade\n0                    2         2.0     A\n1                    6         2.0     A\n2                    8         3.0    A-\n3                    9         4.0    B+\n4                   10         2.0     A\n..                 ...         ...   ...\n274                682         6.0    B-\n275                683         2.0     A\n276                684         3.0    A-\n277                685         3.0    A-\n278                686         3.0    A-\n\n[279 rows x 3 columns]",
      "text/html": "<div>\n<style scoped>\n    .dataframe tbody tr th:only-of-type {\n        vertical-align: middle;\n    }\n\n    .dataframe tbody tr th {\n        vertical-align: top;\n    }\n\n    .dataframe thead th {\n        text-align: right;\n    }\n</style>\n<table border=\"1\" class=\"dataframe\">\n  <thead>\n    <tr style=\"text-align: right;\">\n      <th></th>\n      <th>assignment_number</th>\n      <th>grade_code</th>\n      <th>grade</th>\n    </tr>\n  </thead>\n  <tbody>\n    <tr>\n      <th>0</th>\n      <td>2</td>\n      <td>2.0</td>\n      <td>A</td>\n    </tr>\n    <tr>\n      <th>1</th>\n      <td>6</td>\n      <td>2.0</td>\n      <td>A</td>\n    </tr>\n    <tr>\n      <th>2</th>\n      <td>8</td>\n      <td>3.0</td>\n      <td>A-</td>\n    </tr>\n    <tr>\n      <th>3</th>\n      <td>9</td>\n      <td>4.0</td>\n      <td>B+</td>\n    </tr>\n    <tr>\n      <th>4</th>\n      <td>10</td>\n      <td>2.0</td>\n      <td>A</td>\n    </tr>\n    <tr>\n      <th>...</th>\n      <td>...</td>\n      <td>...</td>\n      <td>...</td>\n    </tr>\n    <tr>\n      <th>274</th>\n      <td>682</td>\n      <td>6.0</td>\n      <td>B-</td>\n    </tr>\n    <tr>\n      <th>275</th>\n      <td>683</td>\n      <td>2.0</td>\n      <td>A</td>\n    </tr>\n    <tr>\n      <th>276</th>\n      <td>684</td>\n      <td>3.0</td>\n      <td>A-</td>\n    </tr>\n    <tr>\n      <th>277</th>\n      <td>685</td>\n      <td>3.0</td>\n      <td>A-</td>\n    </tr>\n    <tr>\n      <th>278</th>\n      <td>686</td>\n      <td>3.0</td>\n      <td>A-</td>\n    </tr>\n  </tbody>\n</table>\n<p>279 rows × 3 columns</p>\n</div>"
     },
     "execution_count": 114,
     "metadata": {},
     "output_type": "execute_result"
    }
   ],
   "source": [
    "grades_df['grade_code'] = grades_df['grade'].cat.codes\n",
    "mean_grades_df = grades_df[['assignment_number', 'grade_code']].groupby('assignment_number').mean().reset_index()\n",
    "mean_grades_df['grade_code'] = mean_grades_df['grade_code'].round()\n",
    "mean_grades_df['grade'] = mean_grades_df['grade_code'].apply(lambda x: grade_code_dict[x])\n",
    "mean_grades_df"
   ],
   "metadata": {
    "collapsed": false,
    "ExecuteTime": {
     "end_time": "2024-07-22T13:39:25.966320Z",
     "start_time": "2024-07-22T13:39:25.958498Z"
    }
   },
   "id": "944f1870eaf5eee0",
   "execution_count": 114
  },
  {
   "cell_type": "code",
   "outputs": [
    {
     "data": {
      "text/plain": "   assignment_number  grade_code grade  \\\n0                  2         2.0     A   \n1                  2         2.0     A   \n2                  2         2.0     A   \n3                  2         2.0     A   \n4                  2         2.0     A   \n\n                                                path  \\\n0  data/anonymised_assignments/18~19/18~19_Submis...   \n1  data/anonymised_assignments/18~19/18~19_Submis...   \n2  data/anonymised_assignments/18~19/18~19_Submis...   \n3  data/anonymised_assignments/18~19/18~19_Submis...   \n4  data/anonymised_assignments/18~19/18~19_Submis...   \n\n                                           docstring  \\\n0  This is what the rabbit does most of the time ...   \n1  Increase the age.\\nThis could result in the ra...   \n2  Make this rabbit more hungry. This could resul...   \n3  Look for rabbits adjacent to the current locat...   \n4  Check whether or not this rabbit is to give bi...   \n\n                                   docstring_summary  \\\n0  This is what the rabbit does most of the time ...   \n1  Increase the age.\\nThis could result in the ra...   \n2  Make this rabbit more hungry. This could resul...   \n3  Look for rabbits adjacent to the current locat...   \n4  Check whether or not this rabbit is to give bi...   \n\n                                    docstring_tokens  \\\n0  [This, is, what, the, rabbit, does, most, of, ...   \n1  [Increase, the, age, ., This, could, result, i...   \n2  [Make, this, rabbit, more, hungry, ., This, co...   \n3  [Look, for, rabbits, adjacent, to, the, curren...   \n4  [Check, whether, or, not, this, rabbit, is, to...   \n\n                                            function  \\\n0  public void act(List<Animal> newRabbits)\\n    ...   \n1  private void incrementAge()\\n    {\\n        ag...   \n2  private void incrementHunger()\\n    {\\n       ...   \n3  private Location findFood()\\n    {\\n        Fi...   \n4  private void giveBirth(List<Animal> newRabbits...   \n\n                                     function_tokens line_numbers  \n0  [public, void, act, (, List, <, Animal, >, new...      L60-L81  \n1  [private, void, incrementAge, (, ), {, age, ++...      L88-L97  \n2  [private, void, incrementHunger, (, ), {, food...    L102-L108  \n3  [private, Location, findFood, (, ), {, Field, ...    L115-L134  \n4  [private, void, giveBirth, (, List, <, Animal,...    L141-L156  ",
      "text/html": "<div>\n<style scoped>\n    .dataframe tbody tr th:only-of-type {\n        vertical-align: middle;\n    }\n\n    .dataframe tbody tr th {\n        vertical-align: top;\n    }\n\n    .dataframe thead th {\n        text-align: right;\n    }\n</style>\n<table border=\"1\" class=\"dataframe\">\n  <thead>\n    <tr style=\"text-align: right;\">\n      <th></th>\n      <th>assignment_number</th>\n      <th>grade_code</th>\n      <th>grade</th>\n      <th>path</th>\n      <th>docstring</th>\n      <th>docstring_summary</th>\n      <th>docstring_tokens</th>\n      <th>function</th>\n      <th>function_tokens</th>\n      <th>line_numbers</th>\n    </tr>\n  </thead>\n  <tbody>\n    <tr>\n      <th>0</th>\n      <td>2</td>\n      <td>2.0</td>\n      <td>A</td>\n      <td>data/anonymised_assignments/18~19/18~19_Submis...</td>\n      <td>This is what the rabbit does most of the time ...</td>\n      <td>This is what the rabbit does most of the time ...</td>\n      <td>[This, is, what, the, rabbit, does, most, of, ...</td>\n      <td>public void act(List&lt;Animal&gt; newRabbits)\\n    ...</td>\n      <td>[public, void, act, (, List, &lt;, Animal, &gt;, new...</td>\n      <td>L60-L81</td>\n    </tr>\n    <tr>\n      <th>1</th>\n      <td>2</td>\n      <td>2.0</td>\n      <td>A</td>\n      <td>data/anonymised_assignments/18~19/18~19_Submis...</td>\n      <td>Increase the age.\\nThis could result in the ra...</td>\n      <td>Increase the age.\\nThis could result in the ra...</td>\n      <td>[Increase, the, age, ., This, could, result, i...</td>\n      <td>private void incrementAge()\\n    {\\n        ag...</td>\n      <td>[private, void, incrementAge, (, ), {, age, ++...</td>\n      <td>L88-L97</td>\n    </tr>\n    <tr>\n      <th>2</th>\n      <td>2</td>\n      <td>2.0</td>\n      <td>A</td>\n      <td>data/anonymised_assignments/18~19/18~19_Submis...</td>\n      <td>Make this rabbit more hungry. This could resul...</td>\n      <td>Make this rabbit more hungry. This could resul...</td>\n      <td>[Make, this, rabbit, more, hungry, ., This, co...</td>\n      <td>private void incrementHunger()\\n    {\\n       ...</td>\n      <td>[private, void, incrementHunger, (, ), {, food...</td>\n      <td>L102-L108</td>\n    </tr>\n    <tr>\n      <th>3</th>\n      <td>2</td>\n      <td>2.0</td>\n      <td>A</td>\n      <td>data/anonymised_assignments/18~19/18~19_Submis...</td>\n      <td>Look for rabbits adjacent to the current locat...</td>\n      <td>Look for rabbits adjacent to the current locat...</td>\n      <td>[Look, for, rabbits, adjacent, to, the, curren...</td>\n      <td>private Location findFood()\\n    {\\n        Fi...</td>\n      <td>[private, Location, findFood, (, ), {, Field, ...</td>\n      <td>L115-L134</td>\n    </tr>\n    <tr>\n      <th>4</th>\n      <td>2</td>\n      <td>2.0</td>\n      <td>A</td>\n      <td>data/anonymised_assignments/18~19/18~19_Submis...</td>\n      <td>Check whether or not this rabbit is to give bi...</td>\n      <td>Check whether or not this rabbit is to give bi...</td>\n      <td>[Check, whether, or, not, this, rabbit, is, to...</td>\n      <td>private void giveBirth(List&lt;Animal&gt; newRabbits...</td>\n      <td>[private, void, giveBirth, (, List, &lt;, Animal,...</td>\n      <td>L141-L156</td>\n    </tr>\n  </tbody>\n</table>\n</div>"
     },
     "execution_count": 115,
     "metadata": {},
     "output_type": "execute_result"
    }
   ],
   "source": [
    "df = mean_grades_df.merge(assignment_df, on='assignment_number', how='inner')\n",
    "df['line_numbers'] = df['url'].apply(lambda x: x.split('/')[-1][1:])\n",
    "\n",
    "df = df[['assignment_number', 'grade_code', 'grade', 'path', 'docstring', 'docstring_summary', 'docstring_tokens', 'function', 'function_tokens', 'line_numbers']]\n",
    "df.to_csv('data/docstring_code_grades.csv')\n",
    "df.head()"
   ],
   "metadata": {
    "collapsed": false,
    "ExecuteTime": {
     "end_time": "2024-07-22T13:39:26.717070Z",
     "start_time": "2024-07-22T13:39:25.967017Z"
    }
   },
   "id": "e0b14a1843fdc35c",
   "execution_count": 115
  }
 ],
 "metadata": {
  "kernelspec": {
   "display_name": "Python 3",
   "language": "python",
   "name": "python3"
  },
  "language_info": {
   "codemirror_mode": {
    "name": "ipython",
    "version": 2
   },
   "file_extension": ".py",
   "mimetype": "text/x-python",
   "name": "python",
   "nbconvert_exporter": "python",
   "pygments_lexer": "ipython2",
   "version": "2.7.6"
  }
 },
 "nbformat": 4,
 "nbformat_minor": 5
}
