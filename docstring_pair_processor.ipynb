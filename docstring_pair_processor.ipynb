{
 "cells": [
  {
   "cell_type": "code",
   "execution_count": 3,
   "id": "initial_id",
   "metadata": {
    "collapsed": true,
    "ExecuteTime": {
     "end_time": "2024-07-22T12:32:27.321490Z",
     "start_time": "2024-07-22T12:32:26.511288Z"
    }
   },
   "outputs": [],
   "source": [
    "import function_parser\n",
    "import os\n",
    "\n",
    "import pandas as pd\n",
    "\n",
    "from function_parser.language_data import LANGUAGE_METADATA\n",
    "from function_parser.process import DataProcessor\n",
    "from tree_sitter import Language"
   ]
  },
  {
   "cell_type": "markdown",
   "source": [
    "# Build Dataset of Docstring and Code Pairs\n",
    "### Build Grammers"
   ],
   "metadata": {
    "collapsed": false
   },
   "id": "f7b26fd67369eecd"
  },
  {
   "cell_type": "code",
   "outputs": [],
   "source": [
    "!build_grammars"
   ],
   "metadata": {
    "collapsed": false,
    "ExecuteTime": {
     "end_time": "2024-07-22T12:32:28.584277Z",
     "start_time": "2024-07-22T12:32:28.029114Z"
    }
   },
   "id": "edda3d61c7b1c5eb",
   "execution_count": 4
  },
  {
   "cell_type": "markdown",
   "source": [
    "## Process Assignments"
   ],
   "metadata": {
    "collapsed": false
   },
   "id": "8d39b6145313f115"
  },
  {
   "cell_type": "code",
   "outputs": [],
   "source": [
    "language = 'java'\n",
    "DataProcessor.PARSER.set_language(Language(os.path.join(function_parser.__path__[0], \"tree-sitter-languages.so\"), language))\n",
    "processor = DataProcessor(language=language, language_parser=LANGUAGE_METADATA[language]['language_parser'])\n",
    "\n",
    "ASSIGNMENTS_PATH = 'data/anonymised_assignments'\n",
    "\n",
    "pairs = []\n",
    "\n",
    "for root, _, files in os.walk(ASSIGNMENTS_PATH):\n",
    "    for file in files:\n",
    "        if not file.endswith('.java'):\n",
    "            continue\n",
    "            \n",
    "        path = os.path.join(root,file)\n",
    "        definitions = processor.process_single_file(path)\n",
    "\n",
    "        def_df = pd.DataFrame(definitions)\n",
    "        def_df['path'] = path\n",
    "        \n",
    "        pairs.append(def_df)\n",
    "df = pd.concat(pairs)"
   ],
   "metadata": {
    "collapsed": false,
    "ExecuteTime": {
     "end_time": "2024-07-22T12:36:05.454627Z",
     "start_time": "2024-07-22T12:35:21.120361Z"
    }
   },
   "id": "2e63b73253fa90a2",
   "execution_count": 21
  },
  {
   "cell_type": "code",
   "outputs": [
    {
     "data": {
      "text/plain": "  nwo sha                                               path language  \\\n0          data/anonymised_assignments/20~21/20~21_Submis...     java   \n1          data/anonymised_assignments/20~21/20~21_Submis...     java   \n0          data/anonymised_assignments/20~21/20~21_Submis...     java   \n1          data/anonymised_assignments/20~21/20~21_Submis...     java   \n2          data/anonymised_assignments/20~21/20~21_Submis...     java   \n\n    identifier parameters argument_list return_statement  \\\n0  Randomizer.                                             \n1  Randomizer.                                             \n0     Counter.                                             \n1     Counter.                                             \n2     Counter.                                             \n\n                                           docstring  \\\n0  Provide a random generator.\\n@return A random ...   \n1  Reset the randomization.\\nThis will have no ef...   \n0        @return The short description of this type.   \n1           @return The current count for this type.   \n2                Increment the current count by one.   \n\n                                   docstring_summary  \\\n0                        Provide a random generator.   \n1  Reset the randomization.\\nThis will have no ef...   \n0                                                      \n1                                                      \n2                Increment the current count by one.   \n\n                                    docstring_tokens  \\\n0                 [Provide, a, random, generator, .]   \n1  [Reset, the, randomization, ., This, will, hav...   \n0                                                 []   \n1                                                 []   \n2       [Increment, the, current, count, by, one, .]   \n\n                                            function  \\\n0  public static Random getRandom()\\n    {\\n     ...   \n1  public static void reset()\\n    {\\n        if(...   \n0  public String getName()\\n    {\\n        return...   \n1  public int getCount()\\n    {\\n        return c...   \n2  public void increment()\\n    {\\n        count+...   \n\n                                     function_tokens  \\\n0  [public, static, Random, getRandom, (, ), {, i...   \n1  [public, static, void, reset, (, ), {, if, (, ...   \n0  [public, String, getName, (, ), {, return, nam...   \n1  [public, int, getCount, (, ), {, return, count...   \n2  [public, void, increment, (, ), {, count, ++, ...   \n\n                                  url  \n0  https://github.com//blob//#L30-L38  \n1  https://github.com//blob//#L45-L50  \n0  https://github.com//blob//#L31-L34  \n1  https://github.com//blob//#L39-L42  \n2  https://github.com//blob//#L47-L50  ",
      "text/html": "<div>\n<style scoped>\n    .dataframe tbody tr th:only-of-type {\n        vertical-align: middle;\n    }\n\n    .dataframe tbody tr th {\n        vertical-align: top;\n    }\n\n    .dataframe thead th {\n        text-align: right;\n    }\n</style>\n<table border=\"1\" class=\"dataframe\">\n  <thead>\n    <tr style=\"text-align: right;\">\n      <th></th>\n      <th>nwo</th>\n      <th>sha</th>\n      <th>path</th>\n      <th>language</th>\n      <th>identifier</th>\n      <th>parameters</th>\n      <th>argument_list</th>\n      <th>return_statement</th>\n      <th>docstring</th>\n      <th>docstring_summary</th>\n      <th>docstring_tokens</th>\n      <th>function</th>\n      <th>function_tokens</th>\n      <th>url</th>\n    </tr>\n  </thead>\n  <tbody>\n    <tr>\n      <th>0</th>\n      <td></td>\n      <td></td>\n      <td>data/anonymised_assignments/20~21/20~21_Submis...</td>\n      <td>java</td>\n      <td>Randomizer.</td>\n      <td></td>\n      <td></td>\n      <td></td>\n      <td>Provide a random generator.\\n@return A random ...</td>\n      <td>Provide a random generator.</td>\n      <td>[Provide, a, random, generator, .]</td>\n      <td>public static Random getRandom()\\n    {\\n     ...</td>\n      <td>[public, static, Random, getRandom, (, ), {, i...</td>\n      <td>https://github.com//blob//#L30-L38</td>\n    </tr>\n    <tr>\n      <th>1</th>\n      <td></td>\n      <td></td>\n      <td>data/anonymised_assignments/20~21/20~21_Submis...</td>\n      <td>java</td>\n      <td>Randomizer.</td>\n      <td></td>\n      <td></td>\n      <td></td>\n      <td>Reset the randomization.\\nThis will have no ef...</td>\n      <td>Reset the randomization.\\nThis will have no ef...</td>\n      <td>[Reset, the, randomization, ., This, will, hav...</td>\n      <td>public static void reset()\\n    {\\n        if(...</td>\n      <td>[public, static, void, reset, (, ), {, if, (, ...</td>\n      <td>https://github.com//blob//#L45-L50</td>\n    </tr>\n    <tr>\n      <th>0</th>\n      <td></td>\n      <td></td>\n      <td>data/anonymised_assignments/20~21/20~21_Submis...</td>\n      <td>java</td>\n      <td>Counter.</td>\n      <td></td>\n      <td></td>\n      <td></td>\n      <td>@return The short description of this type.</td>\n      <td></td>\n      <td>[]</td>\n      <td>public String getName()\\n    {\\n        return...</td>\n      <td>[public, String, getName, (, ), {, return, nam...</td>\n      <td>https://github.com//blob//#L31-L34</td>\n    </tr>\n    <tr>\n      <th>1</th>\n      <td></td>\n      <td></td>\n      <td>data/anonymised_assignments/20~21/20~21_Submis...</td>\n      <td>java</td>\n      <td>Counter.</td>\n      <td></td>\n      <td></td>\n      <td></td>\n      <td>@return The current count for this type.</td>\n      <td></td>\n      <td>[]</td>\n      <td>public int getCount()\\n    {\\n        return c...</td>\n      <td>[public, int, getCount, (, ), {, return, count...</td>\n      <td>https://github.com//blob//#L39-L42</td>\n    </tr>\n    <tr>\n      <th>2</th>\n      <td></td>\n      <td></td>\n      <td>data/anonymised_assignments/20~21/20~21_Submis...</td>\n      <td>java</td>\n      <td>Counter.</td>\n      <td></td>\n      <td></td>\n      <td></td>\n      <td>Increment the current count by one.</td>\n      <td>Increment the current count by one.</td>\n      <td>[Increment, the, current, count, by, one, .]</td>\n      <td>public void increment()\\n    {\\n        count+...</td>\n      <td>[public, void, increment, (, ), {, count, ++, ...</td>\n      <td>https://github.com//blob//#L47-L50</td>\n    </tr>\n  </tbody>\n</table>\n</div>"
     },
     "execution_count": 22,
     "metadata": {},
     "output_type": "execute_result"
    }
   ],
   "source": [
    "df.head()"
   ],
   "metadata": {
    "collapsed": false,
    "ExecuteTime": {
     "end_time": "2024-07-22T12:36:05.464520Z",
     "start_time": "2024-07-22T12:36:05.455603Z"
    }
   },
   "id": "46e1d9030475e885",
   "execution_count": 22
  },
  {
   "cell_type": "markdown",
   "source": [
    "### Process Grades"
   ],
   "metadata": {
    "collapsed": false
   },
   "id": "f625c0967f914eaa"
  },
  {
   "cell_type": "code",
   "outputs": [],
   "source": [],
   "metadata": {
    "collapsed": false
   },
   "id": "2cbfa077c7d10a6e"
  }
 ],
 "metadata": {
  "kernelspec": {
   "display_name": "Python 3",
   "language": "python",
   "name": "python3"
  },
  "language_info": {
   "codemirror_mode": {
    "name": "ipython",
    "version": 2
   },
   "file_extension": ".py",
   "mimetype": "text/x-python",
   "name": "python",
   "nbconvert_exporter": "python",
   "pygments_lexer": "ipython2",
   "version": "2.7.6"
  }
 },
 "nbformat": 4,
 "nbformat_minor": 5
}
