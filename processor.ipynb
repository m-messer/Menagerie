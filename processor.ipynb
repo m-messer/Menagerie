{
 "cells": [
  {
   "cell_type": "code",
   "execution_count": 42,
   "outputs": [],
   "source": [
    "import os\n",
    "import shutil\n",
    "import hashlib"
   ],
   "metadata": {
    "collapsed": false
   }
  },
  {
   "cell_type": "markdown",
   "source": [
    "## De-duplicate"
   ],
   "metadata": {
    "collapsed": false
   }
  },
  {
   "cell_type": "markdown",
   "source": [
    "### Find Duplicate Assignments"
   ],
   "metadata": {
    "collapsed": false
   }
  },
  {
   "cell_type": "code",
   "execution_count": 60,
   "outputs": [],
   "source": [
    "RAW_PATH = \"data/raw\"\n",
    "\n",
    "hashes = {}\n",
    "\n",
    "for root, _, files in os.walk(RAW_PATH):\n",
    "    for file in files:\n",
    "        if file.startswith(\".\"):\n",
    "            continue\n",
    "\n",
    "        with open(os.path.join(root, file), \"rb\") as f:\n",
    "            digest = hashlib.file_digest(f, \"sha256\")\n",
    "\n",
    "        dhash = digest.hexdigest()\n",
    "\n",
    "        if dhash in hashes.keys():\n",
    "            hashes[dhash].append(os.path.join(root, file))\n",
    "        else:\n",
    "            hashes[dhash] = [os.path.join(root, file)]\n",
    "\n"
   ],
   "metadata": {
    "collapsed": false
   }
  },
  {
   "cell_type": "markdown",
   "source": [
    "### Copy jars to processed, de-duplicate, and rename"
   ],
   "metadata": {
    "collapsed": false
   }
  },
  {
   "cell_type": "code",
   "execution_count": 65,
   "outputs": [],
   "source": [
    "PROCESSED_PATH = \"data/proc\"\n",
    "\n",
    "if not os.path.exists(PROCESSED_PATH):\n",
    "    os.mkdir(PROCESSED_PATH)\n",
    "\n",
    "for counter, paths in enumerate(hashes.values()):\n",
    "    proc_path = os.path.join(PROCESSED_PATH, \"18-19_Submission_\" + str(counter))\n",
    "    os.mkdir(proc_path)\n",
    "\n",
    "    file_ext = paths[0].split(\".\")[1]\n",
    "\n",
    "    shutil.copyfile(paths[0], os.path.join(proc_path, \"18-19_Submission_\" + str(counter) + \".\" + file_ext))"
   ],
   "metadata": {
    "collapsed": false
   }
  },
  {
   "cell_type": "markdown",
   "source": [
    "## Extract files for jar"
   ],
   "metadata": {
    "collapsed": false,
    "pycharm": {
     "name": "#%% md\n"
    }
   }
  },
  {
   "cell_type": "code",
   "execution_count": 52,
   "outputs": [
    {
     "name": "stdout",
     "output_type": "stream",
     "text": [
      "data/proc/4CCS1PPA 18~19 000001 PROGRAMMING PRA-Assignment 3 Code Submission-2410129/Stefanos Karathanassis_2742361_assignsubmission_file_\n"
     ]
    }
   ],
   "source": [
    "\n",
    "temp = False\n",
    "\n",
    "for root, _, files in os.walk(PROCESSED_PATH):\n",
    "    for file in files:\n",
    "        if file.endswith(\".jar\"):\n",
    "            path = os.path.join(root, file).replace(\" \", '\\ ')\n",
    "            os.system('unzip ' + path + \" -d ./\" + root.replace(\" \", \"\\ \"))\n",
    "            temp = True\n",
    "            break\n",
    "\n",
    "    if temp:\n",
    "        break"
   ],
   "metadata": {
    "collapsed": false
   }
  },
  {
   "cell_type": "markdown",
   "source": [
    "## Remove unnecessary files"
   ],
   "metadata": {
    "collapsed": false,
    "pycharm": {
     "name": "#%% md\n"
    }
   }
  },
  {
   "cell_type": "code",
   "execution_count": 53,
   "outputs": [],
   "source": [
    "for root, subdirs, files in os.walk(DATA_PATH):\n",
    "\n",
    "    for subdir in subdirs:\n",
    "        if subdir.startswith(\".\"):\n",
    "            shutil.rmtree(os.path.join(root, subdir))\n",
    "\n",
    "    for file in files:\n",
    "        if file.endswith(\".class\") or file.endswith(\".ctxt\") or file.endswith(\"~\"):\n",
    "            os.remove(os.path.abspath(os.path.join(\"./\", root, file)))"
   ],
   "metadata": {
    "collapsed": false,
    "pycharm": {
     "name": "#%%\n"
    }
   }
  }
 ],
 "metadata": {
  "kernelspec": {
   "display_name": "Python 3",
   "language": "python",
   "name": "python3"
  },
  "language_info": {
   "codemirror_mode": {
    "name": "ipython",
    "version": 2
   },
   "file_extension": ".py",
   "mimetype": "text/x-python",
   "name": "python",
   "nbconvert_exporter": "python",
   "pygments_lexer": "ipython2",
   "version": "2.7.6"
  }
 },
 "nbformat": 4,
 "nbformat_minor": 0
}
