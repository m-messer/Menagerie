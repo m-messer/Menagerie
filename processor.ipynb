{
 "cells": [
  {
   "cell_type": "code",
   "execution_count": 85,
   "outputs": [],
   "source": [
    "import os\n",
    "import shutil\n",
    "import hashlib\n",
    "import re"
   ],
   "metadata": {
    "collapsed": false
   }
  },
  {
   "cell_type": "markdown",
   "source": [
    "## De-duplicate\n",
    "#### Find Duplicate Assignments"
   ],
   "metadata": {
    "collapsed": false
   }
  },
  {
   "cell_type": "code",
   "execution_count": 86,
   "outputs": [],
   "source": [
    "RAW_PATH = \"data/raw\"\n",
    "\n",
    "hashes = {}\n",
    "\n",
    "for root, _, files in os.walk(RAW_PATH):\n",
    "    for file in files:\n",
    "        if file.startswith(\".\"):\n",
    "            continue\n",
    "\n",
    "        with open(os.path.join(root, file), \"rb\") as f:\n",
    "            digest = hashlib.file_digest(f, \"sha256\")\n",
    "\n",
    "        dhash = digest.hexdigest()\n",
    "\n",
    "        if dhash in hashes.keys():\n",
    "            hashes[dhash].append(os.path.join(root, file))\n",
    "        else:\n",
    "            hashes[dhash] = [os.path.join(root, file)]\n",
    "\n"
   ],
   "metadata": {
    "collapsed": false
   }
  },
  {
   "cell_type": "markdown",
   "source": [
    "#### Stats after grouping duplicates"
   ],
   "metadata": {
    "collapsed": false
   }
  },
  {
   "cell_type": "code",
   "execution_count": 93,
   "outputs": [
    {
     "name": "stdout",
     "output_type": "stream",
     "text": [
      "Number of submission:  1404\n",
      "Number of unique solutions: 939\n",
      "Number of duplicates:  465\n",
      "Max number of duplicates on a specific solution 3\n"
     ]
    }
   ],
   "source": [
    "print(\"Number of submission: \", sum([len(p) for p in hashes.values()]))\n",
    "print(\"Number of unique solutions:\", len(hashes))\n",
    "print(\"Number of duplicates: \", sum([len(p) for p in hashes.values()]) - len(hashes))\n",
    "print(\"Max number of duplicates on a specific solution\", max([len(p) for p in hashes.values()]))"
   ],
   "metadata": {
    "collapsed": false
   }
  },
  {
   "cell_type": "markdown",
   "source": [
    "#### Copy jars to processed, de-duplicate, and rename"
   ],
   "metadata": {
    "collapsed": false
   }
  },
  {
   "cell_type": "code",
   "execution_count": 105,
   "outputs": [],
   "source": [
    "PROCESSED_PATH = \"data/proc\"\n",
    "DATE_REGEX = r'[0-9]+~[0-9]+'\n",
    "\n",
    "if not os.path.exists(PROCESSED_PATH):\n",
    "    os.mkdir(PROCESSED_PATH)\n",
    "\n",
    "for counter, paths in enumerate(hashes.values()):\n",
    "\n",
    "    regex_lst = re.findall(DATE_REGEX, paths[0])\n",
    "\n",
    "\n",
    "    if len(regex_lst) == 1:\n",
    "        date = regex_lst[0]\n",
    "    else:\n",
    "        date = \"21~22\"\n",
    "\n",
    "    if not os.path.exists(os.path.join(PROCESSED_PATH, date)):\n",
    "        os.mkdir(os.path.join(PROCESSED_PATH, date))\n",
    "\n",
    "    name = date + \"_Submission_\" + str(counter)\n",
    "\n",
    "    proc_path = os.path.join(PROCESSED_PATH, date, name)\n",
    "\n",
    "    if not os.path.exists(proc_path):\n",
    "        os.mkdir(proc_path)\n",
    "\n",
    "        file_ext = paths[0].split(\".\")\n",
    "\n",
    "        if len(file_ext) == 1:\n",
    "            ext = \".jar\"\n",
    "        else:\n",
    "            ext = \".\" + file_ext[1]\n",
    "\n",
    "        new_path = name + ext\n",
    "\n",
    "        shutil.copyfile(paths[0], os.path.join(proc_path, new_path))"
   ],
   "metadata": {
    "collapsed": false
   }
  },
  {
   "cell_type": "markdown",
   "source": [
    "## File Processing\n",
    "### Extract files for jar"
   ],
   "metadata": {
    "collapsed": false
   }
  },
  {
   "cell_type": "code",
   "execution_count": 109,
   "outputs": [
    {
     "name": "stdout",
     "output_type": "stream",
     "text": [
      "Archive:  data/proc/20~21/20~21_Submission_855/20~21_Submission_855.jar\n",
      "  inflating: ./data/proc/20~21/20~21_Submission_855/META-INF/MANIFEST.MF  \n",
      "  inflating: ./data/proc/20~21/20~21_Submission_855/.DS_Store  \n",
      "  inflating: ./data/proc/20~21/20~21_Submission_855/Actor.class  \n",
      "  inflating: ./data/proc/20~21/20~21_Submission_855/Actor.ctxt  \n",
      "  inflating: ./data/proc/20~21/20~21_Submission_855/Actor.java  \n",
      "  inflating: ./data/proc/20~21/20~21_Submission_855/Animal.class  \n",
      "  inflating: ./data/proc/20~21/20~21_Submission_855/Animal.ctxt  \n",
      "  inflating: ./data/proc/20~21/20~21_Submission_855/Animal.java  \n",
      "  inflating: ./data/proc/20~21/20~21_Submission_855/Cheetah.class  \n",
      "  inflating: ./data/proc/20~21/20~21_Submission_855/Cheetah.ctxt  \n",
      "  inflating: ./data/proc/20~21/20~21_Submission_855/Cheetah.java  \n",
      "  inflating: ./data/proc/20~21/20~21_Submission_855/Counter.class  \n",
      "  inflating: ./data/proc/20~21/20~21_Submission_855/Counter.ctxt  \n",
      "  inflating: ./data/proc/20~21/20~21_Submission_855/Counter.java  \n",
      "  inflating: ./data/proc/20~21/20~21_Submission_855/Deer.class  \n",
      "  inflating: ./data/proc/20~21/20~21_Submission_855/Deer.ctxt  \n",
      "  inflating: ./data/proc/20~21/20~21_Submission_855/Deer.java  \n",
      "  inflating: ./data/proc/20~21/20~21_Submission_855/Disease.class  \n",
      "  inflating: ./data/proc/20~21/20~21_Submission_855/Disease.ctxt  \n",
      "  inflating: ./data/proc/20~21/20~21_Submission_855/Disease.java  \n",
      "  inflating: ./data/proc/20~21/20~21_Submission_855/doc/Actor.html  \n",
      "  inflating: ./data/proc/20~21/20~21_Submission_855/doc/allclasses.html  \n",
      "  inflating: ./data/proc/20~21/20~21_Submission_855/doc/constant-values.html  \n",
      "  inflating: ./data/proc/20~21/20~21_Submission_855/doc/element-list  \n",
      "  inflating: ./data/proc/20~21/20~21_Submission_855/doc/index.html  \n",
      "  inflating: ./data/proc/20~21/20~21_Submission_855/doc/logfile.txt  \n",
      "  inflating: ./data/proc/20~21/20~21_Submission_855/doc/package-summary.html  \n",
      "  inflating: ./data/proc/20~21/20~21_Submission_855/doc/script.js  \n",
      "  inflating: ./data/proc/20~21/20~21_Submission_855/doc/Simulator.html  \n",
      "  inflating: ./data/proc/20~21/20~21_Submission_855/doc/stylesheet.css  \n",
      "  inflating: ./data/proc/20~21/20~21_Submission_855/Field.class  \n",
      "  inflating: ./data/proc/20~21/20~21_Submission_855/Field.ctxt  \n",
      "  inflating: ./data/proc/20~21/20~21_Submission_855/Field.java  \n",
      "  inflating: ./data/proc/20~21/20~21_Submission_855/FieldStats.class  \n",
      "  inflating: ./data/proc/20~21/20~21_Submission_855/FieldStats.ctxt  \n",
      "  inflating: ./data/proc/20~21/20~21_Submission_855/FieldStats.java  \n",
      "  inflating: ./data/proc/20~21/20~21_Submission_855/Grass.class  \n",
      "  inflating: ./data/proc/20~21/20~21_Submission_855/Grass.ctxt  \n",
      "  inflating: ./data/proc/20~21/20~21_Submission_855/Grass.java  \n",
      "  inflating: ./data/proc/20~21/20~21_Submission_855/Horse.class  \n",
      "  inflating: ./data/proc/20~21/20~21_Submission_855/Horse.ctxt  \n",
      "  inflating: ./data/proc/20~21/20~21_Submission_855/Horse.java  \n",
      "  inflating: ./data/proc/20~21/20~21_Submission_855/Lion.class  \n",
      "  inflating: ./data/proc/20~21/20~21_Submission_855/Lion.ctxt  \n",
      "  inflating: ./data/proc/20~21/20~21_Submission_855/Lion.java  \n",
      "  inflating: ./data/proc/20~21/20~21_Submission_855/Location.class  \n",
      "  inflating: ./data/proc/20~21/20~21_Submission_855/Location.ctxt  \n",
      "  inflating: ./data/proc/20~21/20~21_Submission_855/Location.java  \n",
      "  inflating: ./data/proc/20~21/20~21_Submission_855/package.bluej  \n",
      "  inflating: ./data/proc/20~21/20~21_Submission_855/Plants.class  \n",
      "  inflating: ./data/proc/20~21/20~21_Submission_855/Plants.ctxt  \n",
      "  inflating: ./data/proc/20~21/20~21_Submission_855/Plants.java  \n",
      "  inflating: ./data/proc/20~21/20~21_Submission_855/Randomizer.class  \n",
      "  inflating: ./data/proc/20~21/20~21_Submission_855/Randomizer.ctxt  \n",
      "  inflating: ./data/proc/20~21/20~21_Submission_855/Randomizer.java  \n",
      "  inflating: ./data/proc/20~21/20~21_Submission_855/README.TXT  \n",
      "  inflating: ./data/proc/20~21/20~21_Submission_855/Simulator.class  \n",
      "  inflating: ./data/proc/20~21/20~21_Submission_855/Simulator.ctxt  \n",
      "  inflating: ./data/proc/20~21/20~21_Submission_855/Simulator.java  \n",
      "  inflating: ./data/proc/20~21/20~21_Submission_855/SimulatorView$FieldView.class  \n",
      "  inflating: ./data/proc/20~21/20~21_Submission_855/SimulatorView.class  \n",
      "  inflating: ./data/proc/20~21/20~21_Submission_855/SimulatorView.ctxt  \n",
      "  inflating: ./data/proc/20~21/20~21_Submission_855/SimulatorView.java  \n",
      "  inflating: ./data/proc/20~21/20~21_Submission_855/Time.class  \n",
      "  inflating: ./data/proc/20~21/20~21_Submission_855/Time.ctxt  \n",
      "  inflating: ./data/proc/20~21/20~21_Submission_855/Time.java  \n",
      "  inflating: ./data/proc/20~21/20~21_Submission_855/Weather.class  \n",
      "  inflating: ./data/proc/20~21/20~21_Submission_855/Weather.ctxt  \n",
      "  inflating: ./data/proc/20~21/20~21_Submission_855/Weather.java  \n",
      "  inflating: ./data/proc/20~21/20~21_Submission_855/Zebra.class  \n",
      "  inflating: ./data/proc/20~21/20~21_Submission_855/Zebra.ctxt  \n",
      "  inflating: ./data/proc/20~21/20~21_Submission_855/Zebra.java  \n"
     ]
    }
   ],
   "source": [
    "\n",
    "temp = False\n",
    "\n",
    "for root, _, files in os.walk(PROCESSED_PATH):\n",
    "    for file in files:\n",
    "        if file.endswith(\".jar\"):\n",
    "            path = os.path.join(root, file).replace(\" \", '\\ ')\n",
    "            os.system('unzip ' + path + \" -d ./\" + root.replace(\" \", \"\\ \"))\n",
    "\n",
    "            os.remove(path)\n",
    "            temp = True\n",
    "            break\n",
    "\n",
    "    if temp:\n",
    "        break"
   ],
   "metadata": {
    "collapsed": false
   }
  },
  {
   "cell_type": "markdown",
   "source": [
    "### Remove unnecessary files"
   ],
   "metadata": {
    "collapsed": false
   }
  },
  {
   "cell_type": "code",
   "execution_count": 111,
   "outputs": [],
   "source": [
    "for root, subdirs, files in os.walk(PROCESSED_PATH):\n",
    "\n",
    "    for subdir in subdirs:\n",
    "        if subdir.startswith(\".\") or subdir == \"doc\":\n",
    "            shutil.rmtree(os.path.join(root, subdir))\n",
    "\n",
    "    for file in files:\n",
    "        if file.endswith(\".class\") or file.endswith(\".ctxt\") or file.endswith(\"~\") or file.startswith(\".\"):\n",
    "            os.remove(os.path.abspath(os.path.join(\"./\", root, file)))"
   ],
   "metadata": {
    "collapsed": false
   }
  },
  {
   "cell_type": "markdown",
   "source": [
    "## Anonymisation\n",
    "### Remove @author lines from all files"
   ],
   "metadata": {
    "collapsed": false
   }
  },
  {
   "cell_type": "code",
   "execution_count": 133,
   "outputs": [],
   "source": [
    "AUTHOR_TAG_REGEX = '\\s*\\*\\s*@author.+'\n",
    "\n",
    "for root, _, files in os.walk(PROCESSED_PATH):\n",
    "    for file in files:\n",
    "        if file.endswith(\".java\"):\n",
    "            with open(os.path.join(root, file), \"r\") as f:\n",
    "                source_code = f.read()\n",
    "\n",
    "            source_code = re.sub(AUTHOR_TAG_REGEX, \"\", source_code)\n",
    "\n",
    "            with open(os.path.join(root, file), \"w\") as f:\n",
    "                f.write(source_code)\n"
   ],
   "metadata": {
    "collapsed": false
   }
  }
 ],
 "metadata": {
  "kernelspec": {
   "display_name": "Python 3",
   "language": "python",
   "name": "python3"
  },
  "language_info": {
   "codemirror_mode": {
    "name": "ipython",
    "version": 2
   },
   "file_extension": ".py",
   "mimetype": "text/x-python",
   "name": "python",
   "nbconvert_exporter": "python",
   "pygments_lexer": "ipython2",
   "version": "2.7.6"
  }
 },
 "nbformat": 4,
 "nbformat_minor": 0
}
