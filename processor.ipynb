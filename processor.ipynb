{
 "cells": [
  {
   "cell_type": "code",
   "execution_count": 42,
   "outputs": [],
   "source": [
    "import os\n",
    "import shutil\n",
    "import hashlib"
   ],
   "metadata": {
    "collapsed": false
   }
  },
  {
   "cell_type": "markdown",
   "source": [
    "## Deduplicate Assignemnts"
   ],
   "metadata": {
    "collapsed": false
   }
  },
  {
   "cell_type": "code",
   "execution_count": 47,
   "outputs": [],
   "source": [
    "DATA_PATH = \"data/raw\"\n",
    "\n",
    "hashes = {}\n",
    "\n",
    "for root, _, files in os.walk(DATA_PATH):\n",
    "    for file in files:\n",
    "        with open(os.path.join(root, file), \"rb\") as f:\n",
    "            digest = hashlib.file_digest(f, \"sha256\")\n",
    "\n",
    "        dhash = digest.hexdigest()\n",
    "\n",
    "        if dhash in hashes.keys():\n",
    "            hashes[dhash].append(os.path.join(root, file))\n",
    "        else:\n",
    "            hashes[dhash] = [os.path.join(root, file)]"
   ],
   "metadata": {
    "collapsed": false
   }
  },
  {
   "cell_type": "markdown",
   "source": [
    "## Extract files for jar"
   ],
   "metadata": {
    "collapsed": false,
    "pycharm": {
     "name": "#%% md\n"
    }
   }
  },
  {
   "cell_type": "code",
   "execution_count": 52,
   "outputs": [
    {
     "name": "stdout",
     "output_type": "stream",
     "text": [
      "data/proc/4CCS1PPA 18~19 000001 PROGRAMMING PRA-Assignment 3 Code Submission-2410129/Stefanos Karathanassis_2742361_assignsubmission_file_\n"
     ]
    }
   ],
   "source": [
    "PROCESSED_PATH = \"data/proc\"\n",
    "\n",
    "temp = False\n",
    "\n",
    "for root, _, files in os.walk(DATA_PATH):\n",
    "    for file in files:\n",
    "        if file.endswith(\".jar\"):\n",
    "            path = os.path.join(root, file).replace(\" \", '\\ ')\n",
    "            print(root.replace(DATA_PATH, PROCESSED_PATH))\n",
    "            # os.system('unzip ' + path + \" -d ./\" + )\n",
    "\n",
    "            temp = True\n",
    "            break\n",
    "\n",
    "    if temp:\n",
    "        break"
   ],
   "metadata": {
    "collapsed": false
   }
  },
  {
   "cell_type": "markdown",
   "source": [
    "## Remove unnecessary files"
   ],
   "metadata": {
    "collapsed": false,
    "pycharm": {
     "name": "#%% md\n"
    }
   }
  },
  {
   "cell_type": "code",
   "execution_count": 53,
   "outputs": [],
   "source": [
    "for root, subdirs, files in os.walk(DATA_PATH):\n",
    "\n",
    "    for subdir in subdirs:\n",
    "        if subdir.startswith(\".\"):\n",
    "            shutil.rmtree(os.path.join(root, subdir))\n",
    "\n",
    "    for file in files:\n",
    "        if file.endswith(\".class\") or file.endswith(\".ctxt\") or file.endswith(\"~\"):\n",
    "            os.remove(os.path.abspath(os.path.join(\"./\", root, file)))"
   ],
   "metadata": {
    "collapsed": false,
    "pycharm": {
     "name": "#%%\n"
    }
   }
  }
 ],
 "metadata": {
  "kernelspec": {
   "display_name": "Python 3",
   "language": "python",
   "name": "python3"
  },
  "language_info": {
   "codemirror_mode": {
    "name": "ipython",
    "version": 2
   },
   "file_extension": ".py",
   "mimetype": "text/x-python",
   "name": "python",
   "nbconvert_exporter": "python",
   "pygments_lexer": "ipython2",
   "version": "2.7.6"
  }
 },
 "nbformat": 4,
 "nbformat_minor": 0
}
