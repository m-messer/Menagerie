{
 "cells": [
  {
   "cell_type": "code",
   "execution_count": null,
   "metadata": {},
   "outputs": [],
   "source": [
    "import pandas as pd\n",
    "import re\n",
    "import seaborn as sns\n",
    "import codemetrics as cm"
   ]
  },
  {
   "cell_type": "markdown",
   "metadata": {
    "collapsed": false
   },
   "source": [
    "# Example Analysis of Dataset"
   ]
  },
  {
   "cell_type": "code",
   "execution_count": null,
   "metadata": {},
   "outputs": [],
   "source": [
    "df = pd.read_pickle('../data/analysis_df.pickle')\n",
    "df.head()"
   ]
  },
  {
   "cell_type": "markdown",
   "metadata": {
    "collapsed": false
   },
   "source": [
    "### Number of classes\n",
    "#### Split categories"
   ]
  },
  {
   "cell_type": "code",
   "execution_count": null,
   "metadata": {},
   "outputs": [],
   "source": [
    "public_class_regex = '.*public class.*\\n?{'\n",
    "private_class_regex = '.*private class.*\\n?{'\n",
    "protected_class_regex = '.*protected class.*\\n?{'\n",
    "class_regex = '^class.*\\n?{'\n",
    "abstract_class_regex = '.*abstract class.*\\n?{'\n",
    "enum_regex = '.*enum.*\\n?{'\n",
    "interface_regex = '.*interface.*\\n?{'\n",
    "\n",
    "df_classes = df.copy()\n",
    "\n",
    "df_classes['no_public_classes'] = df.src.apply(lambda src: len(re.findall(public_class_regex, src)))\n",
    "df_classes['no_protected_classes'] = df.src.apply(lambda src: len(re.findall(protected_class_regex, src)))\n",
    "df_classes['no_private_classes'] = df.src.apply(lambda src: len(re.findall(private_class_regex, src)))\n",
    "df_classes['no_package_private_classes'] = df.src.apply(lambda src: len(re.findall(class_regex, src)))\n",
    "df_classes['no_abstract_classes'] = df.src.apply(lambda src: len(re.findall(abstract_class_regex, src)))\n",
    "df_classes['no_enums'] = df.src.apply(lambda src: len(re.findall(enum_regex, src)))\n",
    "df_classes['no_interfaces'] = df.src.apply(lambda src: len(re.findall(interface_regex, src)))\n",
    "\n",
    "df_classes = df_classes.drop(['file_name', 'src'], axis=1)\n",
    "\n",
    "df_classes.head()"
   ]
  },
  {
   "cell_type": "code",
   "execution_count": null,
   "metadata": {},
   "outputs": [],
   "source": [
    "\n",
    "grouped = df_classes.groupby('dir').sum()\n",
    "\n",
    "grouped = grouped.loc[:, (grouped != 0).any(axis=0)]\n",
    "stacked = grouped.stack().reset_index().drop('dir', axis=1)\n",
    "stacked.columns = ['class_type', 'class_count']\n",
    "stacked.head(10)"
   ]
  },
  {
   "cell_type": "code",
   "execution_count": null,
   "metadata": {},
   "outputs": [],
   "source": [
    "sns.boxplot(stacked, x='class_count', y='class_type')"
   ]
  },
  {
   "cell_type": "markdown",
   "metadata": {
    "collapsed": false
   },
   "source": [
    "#### Total classes"
   ]
  },
  {
   "cell_type": "code",
   "execution_count": null,
   "metadata": {},
   "outputs": [],
   "source": [
    "df_classes['total'] = df_classes[['no_public_classes', 'no_protected_classes', 'no_private_classes', 'no_package_private_classes', 'no_abstract_classes', 'no_enums', 'no_interfaces']].sum(axis=1)\n",
    "df_classes.head()"
   ]
  },
  {
   "cell_type": "code",
   "execution_count": null,
   "metadata": {},
   "outputs": [],
   "source": [
    "grouped = df_classes.groupby('dir').sum()\n",
    "sns.boxplot(grouped, x='total')"
   ]
  },
  {
   "cell_type": "markdown",
   "metadata": {
    "collapsed": false
   },
   "source": [
    "### LOC"
   ]
  },
  {
   "cell_type": "code",
   "execution_count": null,
   "metadata": {},
   "outputs": [],
   "source": [
    "df_loc = df.copy()\n",
    "df_loc.head()"
   ]
  },
  {
   "cell_type": "code",
   "execution_count": null,
   "metadata": {},
   "outputs": [],
   "source": [
    "comment_regex = '(\\/\\*\\*|\\*|\\/\\/)'\n",
    "sloc_regex = ';|(\\n?\\s*{)|}'\n",
    "\n",
    "\n",
    "df_loc['raw_lines'] = df.src.apply(lambda src: len(src.split('\\n')))\n",
    "# These do not sum to raw lines, as I count statement \\n { == 1 line not two\n",
    "df_loc['comment_lines'] = df.src.apply(lambda src: len(re.findall(comment_regex, src)))\n",
    "# Physical SLOC\n",
    "df_loc['sloc'] = df.src.apply(lambda src: len(re.findall(sloc_regex, src)))\n",
    "df_loc['whitespace'] = df.src.apply(lambda src: len([line for line in src.split('\\n') if len(line.strip()) == 0]) - 1)\n",
    "df_loc['whitespace'] = df_loc.whitespace.apply(lambda count: 0 if count < 0 else count)\n",
    "\n",
    "df_loc = df_loc.drop(['src'], axis=1)\n",
    "\n",
    "df_loc.head()"
   ]
  },
  {
   "cell_type": "markdown",
   "metadata": {
    "collapsed": false
   },
   "source": [
    "#### Project Level"
   ]
  },
  {
   "cell_type": "code",
   "execution_count": null,
   "metadata": {},
   "outputs": [],
   "source": [
    "grouped = df_loc[['dir', 'raw_lines', 'comment_lines', 'sloc', 'whitespace']].groupby('dir').sum()\n",
    "\n",
    "grouped = grouped.loc[:, (grouped != 0).any(axis=0)]\n",
    "stacked = grouped.stack().reset_index().drop('dir', axis=1)\n",
    "stacked.columns = ['count_type', 'count']\n",
    "stacked.head(10)"
   ]
  },
  {
   "cell_type": "code",
   "execution_count": null,
   "metadata": {},
   "outputs": [],
   "source": [
    "sns.boxplot(stacked, y='count_type', x='count')"
   ]
  },
  {
   "cell_type": "markdown",
   "metadata": {
    "collapsed": false
   },
   "source": [
    "#### File Level"
   ]
  },
  {
   "cell_type": "code",
   "execution_count": null,
   "metadata": {},
   "outputs": [],
   "source": [
    "stacked = df_loc[['raw_lines', 'comment_lines', 'sloc', 'whitespace']].stack().reset_index().drop('level_0', axis=1)\n",
    "stacked.columns = ['count_type', 'count']\n",
    "stacked.head(10)"
   ]
  },
  {
   "cell_type": "code",
   "execution_count": null,
   "metadata": {},
   "outputs": [],
   "source": [
    "sns.boxplot(stacked, y='count_type', x='count')"
   ]
  },
  {
   "cell_type": "markdown",
   "metadata": {
    "collapsed": false
   },
   "source": [
    "### Iteration"
   ]
  },
  {
   "cell_type": "code",
   "execution_count": null,
   "metadata": {},
   "outputs": [],
   "source": [
    "df_iter = df.copy()\n",
    "df.head()"
   ]
  },
  {
   "cell_type": "code",
   "execution_count": null,
   "metadata": {},
   "outputs": [],
   "source": [
    "for_regex = 'for\\s*\\([^;]*;[^;]*;.*\\)\\s*{'\n",
    "for_each_regex = 'for\\s*\\([^:]*:[^;]*\\)\\s*\\{'\n",
    "while_regex = 'while\\s*\\(.*\\)\\s*\\n?\\{'\n",
    "do_while_regex = 'do\\s*{[^}]*}\\s*while\\s*\\(.*\\);'\n",
    "\n",
    "df_iter['for'] = df.src.apply(lambda src: len(re.findall(for_regex, src)))\n",
    "df_iter['for_each'] = df.src.apply(lambda src: len(re.findall(for_each_regex, src)))\n",
    "df_iter['while'] = df.src.apply(lambda src: len(re.findall(while_regex, src)))\n",
    "df_iter['do_while'] = df.src.apply(lambda src: len(re.findall(do_while_regex, src)))\n",
    "\n",
    "df_iter.head()"
   ]
  },
  {
   "cell_type": "markdown",
   "metadata": {
    "collapsed": false
   },
   "source": [
    "#### File level"
   ]
  },
  {
   "cell_type": "code",
   "execution_count": null,
   "metadata": {},
   "outputs": [],
   "source": [
    "stacked = df_iter[['for', 'for_each', 'while', 'do_while']].stack().reset_index().drop('level_0', axis=1)\n",
    "stacked.columns = ['count_type', 'count']\n",
    "stacked.head(10)"
   ]
  },
  {
   "cell_type": "code",
   "execution_count": null,
   "metadata": {},
   "outputs": [],
   "source": [
    "sns.boxplot(stacked, y='count_type', x='count')"
   ]
  },
  {
   "cell_type": "markdown",
   "metadata": {
    "collapsed": false
   },
   "source": [
    "#### Project Level"
   ]
  },
  {
   "cell_type": "code",
   "execution_count": null,
   "metadata": {},
   "outputs": [],
   "source": [
    "grouped = df_iter[['dir', 'for', 'for_each', 'while', 'do_while']].groupby('dir').sum()\n",
    "\n",
    "grouped = grouped.loc[:, (grouped != 0).any(axis=0)]\n",
    "stacked = grouped.stack().reset_index().drop('dir', axis=1)\n",
    "stacked.columns = ['count_type', 'count']\n",
    "stacked.head(10)"
   ]
  },
  {
   "cell_type": "code",
   "execution_count": null,
   "metadata": {},
   "outputs": [],
   "source": [
    "sns.boxplot(stacked, y='count_type', x='count')"
   ]
  }
 ],
 "metadata": {
  "kernelspec": {
   "display_name": "Python 3",
   "language": "python",
   "name": "python3"
  },
  "language_info": {
   "codemirror_mode": {
    "name": "ipython",
    "version": 2
   },
   "file_extension": ".py",
   "mimetype": "text/x-python",
   "name": "python",
   "nbconvert_exporter": "python",
   "pygments_lexer": "ipython2",
   "version": "2.7.6"
  }
 },
 "nbformat": 4,
 "nbformat_minor": 0
}
