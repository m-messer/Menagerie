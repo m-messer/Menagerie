{
 "cells": [
  {
   "cell_type": "code",
   "execution_count": null,
   "metadata": {},
   "outputs": [],
   "source": [
    "import matplotlib.pyplot as plt\n",
    "import pandas as pd\n",
    "import re\n",
    "import seaborn as sns\n",
    "from tqdm import tqdm\n",
    "\n",
    "tqdm.pandas()\n"
   ]
  },
  {
   "cell_type": "markdown",
   "metadata": {
    "collapsed": false
   },
   "source": [
    "# Example Analysis of Dataset"
   ]
  },
  {
   "cell_type": "code",
   "execution_count": null,
   "metadata": {},
   "outputs": [],
   "source": [
    "submissions_df = pd.read_pickle('../data/analysis_df.pickle')\n",
    "# Exclude directories that require manual data cleaning before release\n",
    "exclude = ['../data/proc/18~19/18~19_Submission_686']\n",
    "submissions_df = submissions_df[~submissions_df.dir.isin(exclude)]\n",
    "submissions_df.head()"
   ]
  },
  {
   "cell_type": "code",
   "execution_count": null,
   "metadata": {},
   "outputs": [],
   "source": [
    "template_df = pd.read_pickle('../data/template_df.pickle')\n",
    "template_df.head()"
   ]
  },
  {
   "cell_type": "markdown",
   "metadata": {
    "collapsed": false
   },
   "source": [
    "### Count of submissions"
   ]
  },
  {
   "cell_type": "code",
   "execution_count": null,
   "metadata": {},
   "outputs": [],
   "source": [
    "submissions_df.groupby('dir').count().shape[0]"
   ]
  },
  {
   "cell_type": "markdown",
   "metadata": {
    "collapsed": false
   },
   "source": [
    "### Number of classes\n",
    "#### Split categories"
   ]
  },
  {
   "cell_type": "code",
   "execution_count": null,
   "metadata": {},
   "outputs": [],
   "source": [
    "public_class_regex = '.*public class.*\\n?{'\n",
    "private_class_regex = '.*private class.*\\n?{'\n",
    "protected_class_regex = '.*protected class.*\\n?{'\n",
    "class_regex = '^class.*\\n?{'\n",
    "abstract_class_regex = '.*abstract class.*\\n?{'\n",
    "enum_regex = '.*enum.*\\n?{'\n",
    "interface_regex = '.*interface.*\\n?{'\n",
    "\n",
    "def process_classes(df):\n",
    "    proc_df = df.copy()\n",
    "\n",
    "    proc_df['no_public_classes'] = proc_df.src.apply(lambda src: len(re.findall(public_class_regex, src)))\n",
    "    proc_df['no_protected_classes'] = proc_df.src.apply(lambda src: len(re.findall(protected_class_regex, src)))\n",
    "    proc_df['no_private_classes'] = proc_df.src.apply(lambda src: len(re.findall(private_class_regex, src)))\n",
    "    proc_df['no_package_private_classes'] = proc_df.src.apply(lambda src: len(re.findall(class_regex, src)))\n",
    "    proc_df['no_abstract_classes'] = proc_df.src.apply(lambda src: len(re.findall(abstract_class_regex, src)))\n",
    "    proc_df['no_enums'] = proc_df.src.apply(lambda src: len(re.findall(enum_regex, src)))\n",
    "    proc_df['no_interfaces'] = proc_df.src.apply(lambda src: len(re.findall(interface_regex, src)))\n",
    "\n",
    "    proc_df['total'] = proc_df[['no_public_classes', 'no_protected_classes', 'no_private_classes', 'no_package_private_classes', 'no_abstract_classes', 'no_enums', 'no_interfaces']].sum(axis=1)\n",
    "\n",
    "    proc_df = proc_df.drop(['file_name', 'src'], axis=1)\n",
    "\n",
    "    return proc_df"
   ]
  },
  {
   "cell_type": "code",
   "execution_count": null,
   "metadata": {},
   "outputs": [],
   "source": [
    "def group_stack_classes(df):\n",
    "    grouped = df.groupby('dir').sum()\n",
    "\n",
    "    grouped = grouped.loc[:, (grouped != 0).any(axis=0)]\n",
    "    stacked = grouped.stack().reset_index()\n",
    "    stacked.columns = ['dir', 'class_type', 'class_count']\n",
    "\n",
    "    return stacked"
   ]
  },
  {
   "cell_type": "code",
   "execution_count": null,
   "metadata": {},
   "outputs": [],
   "source": [
    "sub_classes = process_classes(submissions_df)\n",
    "template_classes = process_classes(template_df)\n",
    "\n",
    "stacked_sub_classes =  group_stack_classes(sub_classes)\n",
    "stacked_template_classes =  group_stack_classes(template_classes)\n",
    "\n",
    "stacked_sub_classes.tail(10)"
   ]
  },
  {
   "cell_type": "code",
   "execution_count": null,
   "metadata": {},
   "outputs": [],
   "source": [
    "stacked_template_classes.head(10)"
   ]
  },
  {
   "cell_type": "code",
   "execution_count": null,
   "metadata": {},
   "outputs": [],
   "source": [
    "stacked_sub_classes = stacked_sub_classes[stacked_sub_classes['class_type'] != 'total'].copy()\n",
    "\n",
    "stacked_sub_classes['source'] = 'submissions'\n",
    "stacked_template_classes['source'] = 'template'\n",
    "\n",
    "stacked_sub_classes['class_type'] = stacked_sub_classes['class_type'].apply(lambda class_type: \" \".join(class_type.split('_')[1:]).title())"
   ]
  },
  {
   "cell_type": "code",
   "execution_count": null,
   "metadata": {},
   "outputs": [],
   "source": [
    "stacked_template_classes.head()"
   ]
  },
  {
   "cell_type": "code",
   "execution_count": null,
   "metadata": {},
   "outputs": [],
   "source": [
    "ax = sns.boxplot(stacked_sub_classes, x='class_count', y='class_type')\n",
    "ax.set(xlabel='Total Classes', ylabel='Class Type')\n",
    "\n",
    "# Manually done using the results from the cell above\n",
    "ax.vlines(9, -0.5, 0.5, color='red')\n",
    "ax.vlines(1, 3.5, 4.5, color='red')\n",
    "\n",
    "plt.tight_layout()\n",
    "plt.savefig('plots/classes_sep.png')"
   ]
  },
  {
   "cell_type": "code",
   "execution_count": null,
   "metadata": {},
   "outputs": [],
   "source": [
    "stacked_sub_classes.groupby(\"class_type\").describe().unstack()"
   ]
  },
  {
   "cell_type": "code",
   "execution_count": null,
   "metadata": {},
   "outputs": [],
   "source": [
    "stacked_sub_classes.groupby(\"class_type\")['class_count'].median()"
   ]
  },
  {
   "cell_type": "code",
   "execution_count": null,
   "metadata": {},
   "outputs": [],
   "source": [
    "stacked_template_classes.groupby(\"class_type\").describe().unstack()"
   ]
  },
  {
   "cell_type": "code",
   "execution_count": null,
   "metadata": {},
   "outputs": [],
   "source": [
    "stacked_template_classes.groupby(\"class_type\")['class_count'].median()"
   ]
  },
  {
   "cell_type": "markdown",
   "metadata": {
    "collapsed": false
   },
   "source": [
    "#### Total classes"
   ]
  },
  {
   "cell_type": "code",
   "execution_count": null,
   "metadata": {},
   "outputs": [],
   "source": [
    "sub_classes_total = sub_classes[['dir', 'total']].copy()\n",
    "template_classes_total = template_classes[['dir', 'total']].copy()\n",
    "\n",
    "sub_classes_total.head()"
   ]
  },
  {
   "cell_type": "code",
   "execution_count": null,
   "metadata": {},
   "outputs": [],
   "source": [
    "sub_classes_total['source'] = 'submissions'\n",
    "template_classes_total['source'] = 'template'\n",
    "\n",
    "classes_total = pd.concat([sub_classes_total, template_classes_total])\n",
    "\n",
    "temp_df = classes_total.groupby(['source', 'dir']).sum().reset_index()\n",
    "temp_df.head()"
   ]
  },
  {
   "cell_type": "code",
   "execution_count": null,
   "metadata": {},
   "outputs": [],
   "source": [
    "ax = sns.boxplot(temp_df[temp_df['source'] == 'submissions'], x='total')\n",
    "ax.axvline(temp_df[temp_df['source'] == 'template'].iloc[0].total, color='red')\n",
    "ax.set(xlabel='Total Classes')\n",
    "\n",
    "plt.savefig('plots/classes_total.png')"
   ]
  },
  {
   "cell_type": "code",
   "execution_count": null,
   "metadata": {},
   "outputs": [],
   "source": [
    "sub_classes_total[['dir', 'total']].groupby('dir').sum().describe()"
   ]
  },
  {
   "cell_type": "code",
   "execution_count": null,
   "metadata": {},
   "outputs": [],
   "source": [
    "sub_classes_total[['dir', 'total']].groupby('dir').sum().median()"
   ]
  },
  {
   "cell_type": "code",
   "execution_count": null,
   "metadata": {},
   "outputs": [],
   "source": [
    "template_classes_total[['dir', 'total']].groupby('dir').sum().describe()"
   ]
  },
  {
   "cell_type": "code",
   "execution_count": null,
   "metadata": {},
   "outputs": [],
   "source": [
    "template_classes_total[['dir', 'total']].groupby('dir').sum().median()"
   ]
  },
  {
   "cell_type": "markdown",
   "metadata": {
    "collapsed": false
   },
   "source": [
    "### LOC"
   ]
  },
  {
   "cell_type": "code",
   "execution_count": null,
   "metadata": {},
   "outputs": [],
   "source": [
    "javadoc_regex = '/\\*\\*[^\\{\\}]*\\*/'\n",
    "comment_regex = '/\\*[^\\*][^\\{\\}]*\\*/|//' # Including multiline and single line comments\n",
    "sloc_regex = ';|(\\n?\\s*{)|}'\n",
    "\n",
    "def process_sloc(df):\n",
    "    df_loc = df.copy()\n",
    "\n",
    "    df_loc['raw_lines'] = df.src.apply(lambda src: len(src.split('\\n')))\n",
    "    # These do not sum to raw lines, as I count statement \\n { == 1 line not two, and comments lines are counts if they are at the end of a source line\n",
    "    df_loc['comment_lines'] = df.src.progress_apply(lambda src: sum([len(comment.split('*')) for comment in re.findall(comment_regex, src)])) # Adjust for \"/*\\n\" counting as two lines\n",
    "    df_loc['javadoc_lines'] = df.src.progress_apply(lambda src: sum([len(docstring.strip('\\n').split('*')) - 2 for docstring in re.findall(javadoc_regex, src)])) # Adjust for \"/**\\n\" counting as three lines\n",
    "    # Physical SLOC\n",
    "    df_loc['sloc'] = df.src.progress_apply(lambda src: len(re.findall(sloc_regex, src)))\n",
    "    df_loc['whitespace'] = df.src.progress_apply(lambda src: len([line for line in src.split('\\n') if len(line.strip()) == 0]) - 1)\n",
    "    df_loc['whitespace'] = df_loc.whitespace.progress_apply(lambda count: 0 if count < 0 else count)\n",
    "\n",
    "    df_loc = df_loc.drop(['src'], axis=1)\n",
    "\n",
    "    return df_loc"
   ]
  },
  {
   "cell_type": "code",
   "execution_count": null,
   "metadata": {},
   "outputs": [],
   "source": [
    "submission_sloc = process_sloc(submissions_df)\n",
    "submission_sloc.head()"
   ]
  },
  {
   "cell_type": "code",
   "execution_count": null,
   "metadata": {},
   "outputs": [],
   "source": [
    "template_sloc = process_sloc(template_df)\n",
    "template_sloc.head()"
   ]
  },
  {
   "cell_type": "markdown",
   "metadata": {
    "collapsed": false
   },
   "source": [
    "#### Project Level"
   ]
  },
  {
   "cell_type": "code",
   "execution_count": null,
   "metadata": {},
   "outputs": [],
   "source": [
    "def stack_loc(df):\n",
    "    grouped = df[['dir', 'raw_lines', 'comment_lines', 'javadoc_lines', 'sloc', 'whitespace']].groupby('dir').sum()\n",
    "    grouped = grouped.loc[:, (grouped != 0).any(axis=0)]\n",
    "    stacked = grouped.stack().reset_index()\n",
    "    stacked.columns = ['dir', 'count_type', 'count']\n",
    "\n",
    "    return stacked"
   ]
  },
  {
   "cell_type": "code",
   "execution_count": null,
   "metadata": {},
   "outputs": [],
   "source": [
    "stacked_sub_sloc = stack_loc(submission_sloc)\n",
    "stacked_sub_sloc.head(10)"
   ]
  },
  {
   "cell_type": "code",
   "execution_count": null,
   "metadata": {},
   "outputs": [],
   "source": [
    "stacked_template_sloc = stack_loc(template_sloc)\n",
    "stacked_sub_sloc.head()"
   ]
  },
  {
   "cell_type": "code",
   "execution_count": null,
   "metadata": {},
   "outputs": [],
   "source": [
    "stacked_sub_sloc.count_type = stacked_sub_sloc.count_type.apply(lambda count_type: \" \".join(count_type.split('_')).title())\n",
    "\n",
    "ax = sns.boxplot(stacked_sub_sloc[stacked_sub_sloc['count'] < 6000], y='count_type', x='count')\n",
    "ax.set(xlabel='Total Lines', ylabel='Count Type')\n",
    "\n",
    "# Manually done using the results from the cell above\n",
    "ax.vlines(1302, -0.5, 0.5, color='red')\n",
    "ax.vlines(79, 0.5, 1.5, color='red')\n",
    "ax.vlines(405, 1.5, 2.5, color='red')\n",
    "ax.vlines(643, 2.5, 3.5, color='red')\n",
    "ax.vlines(113, 3.5, 4.5, color='red')\n",
    "\n",
    "plt.tight_layout()\n",
    "plt.savefig('plots/sloc.png')"
   ]
  },
  {
   "cell_type": "code",
   "execution_count": null,
   "metadata": {},
   "outputs": [],
   "source": [
    "stacked_sub_sloc.groupby(\"count_type\").describe().unstack()"
   ]
  },
  {
   "cell_type": "code",
   "execution_count": null,
   "metadata": {},
   "outputs": [],
   "source": [
    "stacked_sub_sloc.groupby(\"count_type\")['count'].median()"
   ]
  },
  {
   "cell_type": "code",
   "execution_count": null,
   "metadata": {},
   "outputs": [],
   "source": [
    "stacked_template_sloc.groupby(\"count_type\").describe().unstack()"
   ]
  },
  {
   "cell_type": "code",
   "execution_count": null,
   "metadata": {},
   "outputs": [],
   "source": [
    "stacked_template_sloc.groupby(\"count_type\")['count'].median()"
   ]
  },
  {
   "cell_type": "markdown",
   "metadata": {
    "collapsed": false
   },
   "source": [
    "### LOC File-Level"
   ]
  },
  {
   "cell_type": "code",
   "execution_count": null,
   "metadata": {},
   "outputs": [],
   "source": [
    "def stack_loc_file(df):\n",
    "    grouped = df[['dir', 'file_name', 'raw_lines', 'comment_lines', 'javadoc_lines', 'sloc', 'whitespace']].groupby(['dir', 'file_name']).sum()\n",
    "    grouped = grouped.loc[:, (grouped != 0).any(axis=0)]\n",
    "    stacked = grouped.stack().reset_index()\n",
    "    stacked.columns = ['dir', 'file_name', 'count_type', 'count']\n",
    "\n",
    "    return stacked"
   ]
  },
  {
   "cell_type": "code",
   "execution_count": null,
   "metadata": {},
   "outputs": [],
   "source": [
    "stacked_sub_sloc_file = stack_loc_file(submission_sloc)\n",
    "stacked_sub_sloc_file.head()"
   ]
  },
  {
   "cell_type": "code",
   "execution_count": null,
   "metadata": {},
   "outputs": [],
   "source": [
    "stacked_sub_sloc_file.count_type = stacked_sub_sloc.count_type.apply(lambda count_type: \" \".join(count_type.split('_')).title())\n",
    "\n",
    "ax = sns.boxplot(stacked_sub_sloc_file[stacked_sub_sloc_file['count_type'] == 'Raw Lines'], x='count')\n",
    "ax.set(xlabel='Total Lines')\n",
    "\n",
    "plt.tight_layout()\n",
    "plt.savefig('plots/sloc_file.png')"
   ]
  },
  {
   "cell_type": "code",
   "execution_count": null,
   "metadata": {},
   "outputs": [],
   "source": [
    "stacked_sub_sloc_file[stacked_sub_sloc_file['count_type'] == 'Raw Lines'].describe()"
   ]
  },
  {
   "cell_type": "code",
   "execution_count": null,
   "metadata": {},
   "outputs": [],
   "source": [
    "stacked_sub_sloc_file[stacked_sub_sloc_file['count_type'] == 'Raw Lines']['count'].median()"
   ]
  },
  {
   "cell_type": "markdown",
   "metadata": {
    "collapsed": false
   },
   "source": [
    "### Median Sized Submission"
   ]
  },
  {
   "cell_type": "code",
   "execution_count": null,
   "metadata": {},
   "outputs": [],
   "source": [
    "med_df = pd.concat([temp_df, stacked_sub_sloc[stacked_sub_sloc['count_type'] == 'Sloc']]).groupby('dir').sum().drop(columns=['count_type', 'source']).reset_index()\n",
    "med_df.head()"
   ]
  },
  {
   "cell_type": "code",
   "execution_count": null,
   "metadata": {},
   "outputs": [],
   "source": [
    "medians = med_df[['total', 'count']].median()\n",
    "medians"
   ]
  },
  {
   "cell_type": "code",
   "execution_count": null,
   "metadata": {},
   "outputs": [],
   "source": [
    "med_df[(med_df['total'] == medians['total']) & (med_df['count'] >= medians['count'] - 20) & (med_df['count'] <= medians['count'] + 20)]"
   ]
  },
  {
   "cell_type": "markdown",
   "metadata": {
    "collapsed": false
   },
   "source": [
    "### Duplication Validation"
   ]
  },
  {
   "cell_type": "code",
   "execution_count": null,
   "metadata": {},
   "outputs": [],
   "source": [
    "pot_dup_df = med_df[med_df.duplicated(['total', 'count'], keep=False)].groupby(['total', 'count'])['dir'].apply(list).reset_index()\n",
    "pot_dup_df = pd.DataFrame(pot_dup_df['dir'].to_list(), index=pot_dup_df.index)\n",
    "pot_dup_df.head()"
   ]
  },
  {
   "cell_type": "code",
   "execution_count": null,
   "metadata": {},
   "outputs": [],
   "source": [
    "files_df = submissions_df[['dir', 'file_name']].groupby('dir')['file_name'].apply(list).reset_index()\n",
    "files_df.head()"
   ]
  },
  {
   "cell_type": "code",
   "execution_count": null,
   "metadata": {},
   "outputs": [],
   "source": [
    "files_dict = dict(zip(files_df['dir'], files_df['file_name'].tolist()))"
   ]
  },
  {
   "cell_type": "code",
   "execution_count": null,
   "metadata": {},
   "outputs": [],
   "source": [
    "dups_df = pd.DataFrame(columns=['0', '1'])\n",
    "\n",
    "for row in pot_dup_df.iterrows():\n",
    "    data = row[1]\n",
    "\n",
    "    if files_dict[data[0]] == files_dict[data[1]]:\n",
    "        dups_df = pd.concat([dups_df, pd.DataFrame({'0': data[0], '1': data[1]}, index=[0])])\n",
    "\n",
    "    if data[2] is not None:\n",
    "        if files_dict[data[0]] == files_dict[data[2]]:\n",
    "            dups_df = pd.concat([dups_df, pd.DataFrame({'0': data[0], '1': data[2],}, index=[0])])\n",
    "        elif files_dict[data[1]] == files_dict[data[2]]:\n",
    "            dups_df = pd.concat([dups_df, pd.DataFrame({'0': data[1], '1': data[2],}, index=[0])])\n",
    "\n",
    "dups_df = dups_df.reset_index(drop=True)\n",
    "dups_df.to_csv('../data/dups.csv')\n",
    "dups_df"
   ]
  },
  {
   "cell_type": "markdown",
   "metadata": {
    "collapsed": false
   },
   "source": [
    "## Iteration"
   ]
  },
  {
   "cell_type": "code",
   "execution_count": null,
   "metadata": {},
   "outputs": [],
   "source": [
    "for_regex = 'for\\s*\\([^;]*;[^;]*;.*\\)\\s*\\{'\n",
    "for_each_regex = 'for\\s*\\([^:]*:[^;]*\\)\\s*\\{'\n",
    "while_regex = 'while\\s*\\(.*\\)\\s*\\n?\\{'\n",
    "do_while_regex = 'do\\s*{[^}]*}\\s*while\\s*\\(.*\\);'\n",
    "\n",
    "def interation_analysis(df):\n",
    "    df_iter = df.copy()\n",
    "\n",
    "    df_iter['for'] = df.src.apply(lambda src: len(re.findall(for_regex, src)))\n",
    "    df_iter['for_list'] = df.src.apply(lambda src: re.findall(for_regex, src))\n",
    "    df_iter['for_each'] = df.src.apply(lambda src: len(re.findall(for_each_regex, src)))\n",
    "    df_iter['while'] = df.src.apply(lambda src: len(re.findall(while_regex, src)))\n",
    "    df_iter['do_while'] = df.src.apply(lambda src: len(re.findall(do_while_regex, src)))\n",
    "\n",
    "    return df_iter"
   ]
  },
  {
   "cell_type": "code",
   "execution_count": null,
   "metadata": {},
   "outputs": [],
   "source": [
    "submission_iter = interation_analysis(submissions_df)\n",
    "submission_iter.head()"
   ]
  },
  {
   "cell_type": "code",
   "execution_count": null,
   "metadata": {},
   "outputs": [],
   "source": [
    "template_iter = interation_analysis(template_df)\n",
    "template_iter.head()"
   ]
  },
  {
   "cell_type": "markdown",
   "metadata": {
    "collapsed": false
   },
   "source": [
    "#### Project Level"
   ]
  },
  {
   "cell_type": "code",
   "execution_count": null,
   "metadata": {},
   "outputs": [],
   "source": [
    "def stack_iter(df):\n",
    "    grouped = df[['dir', 'for', 'for_each', 'while', 'do_while']].groupby('dir').sum()\n",
    "\n",
    "    grouped = grouped.loc[:, (grouped != 0).any(axis=0)]\n",
    "    stacked = grouped.stack().reset_index()\n",
    "    stacked.columns = ['dir', 'count_type', 'count']\n",
    "\n",
    "    return stacked"
   ]
  },
  {
   "cell_type": "code",
   "execution_count": null,
   "metadata": {},
   "outputs": [],
   "source": [
    "stacked_sub_iter = stack_iter(submission_iter)\n",
    "stacked_sub_iter.head()"
   ]
  },
  {
   "cell_type": "code",
   "execution_count": null,
   "metadata": {},
   "outputs": [],
   "source": [
    "stacked_template_iter = stack_iter(template_iter)\n",
    "stacked_template_iter.head()"
   ]
  },
  {
   "cell_type": "code",
   "execution_count": null,
   "metadata": {},
   "outputs": [],
   "source": [
    "stacked_sub_iter.count_type = stacked_sub_iter.count_type.apply(lambda count_type: \" \".join(count_type.split('_')).title())\n",
    "\n",
    "ax = sns.boxplot(stacked_sub_iter, y='count_type', x='count')\n",
    "\n",
    "ax.set(xlabel='Total', ylabel='Interation Type')\n",
    "\n",
    "# Manually done using the results from the cell above\n",
    "ax.vlines(14, -0.5, 0.5, color='red')\n",
    "ax.vlines(4, 0.5, 1.5, color='red')\n",
    "ax.vlines(1, 1.5, 2.5, color='red')\n",
    "\n",
    "plt.tight_layout()\n",
    "plt.savefig('plots/iteration.png')"
   ]
  },
  {
   "cell_type": "code",
   "execution_count": null,
   "metadata": {},
   "outputs": [],
   "source": [
    "stacked_sub_iter[stacked_sub_iter['count_type'] == 'While']['count'].mean()"
   ]
  },
  {
   "cell_type": "code",
   "execution_count": null,
   "metadata": {},
   "outputs": [],
   "source": [
    "stacked_sub_iter.groupby(\"count_type\").describe().unstack()"
   ]
  },
  {
   "cell_type": "code",
   "execution_count": null,
   "metadata": {},
   "outputs": [],
   "source": [
    "stacked_sub_iter.groupby(\"count_type\")['count'].median()"
   ]
  },
  {
   "cell_type": "code",
   "execution_count": null,
   "metadata": {},
   "outputs": [],
   "source": [
    "stacked_template_iter.groupby(\"count_type\").describe().unstack()"
   ]
  },
  {
   "cell_type": "code",
   "execution_count": null,
   "metadata": {},
   "outputs": [],
   "source": [
    "stacked_template_iter.groupby(\"count_type\")['count'].median()"
   ]
  }
 ],
 "metadata": {
  "kernelspec": {
   "display_name": "Python 3",
   "language": "python",
   "name": "python3"
  },
  "language_info": {
   "codemirror_mode": {
    "name": "ipython",
    "version": 2
   },
   "file_extension": ".py",
   "mimetype": "text/x-python",
   "name": "python",
   "nbconvert_exporter": "python",
   "pygments_lexer": "ipython2",
   "version": "2.7.6"
  }
 },
 "nbformat": 4,
 "nbformat_minor": 0
}
