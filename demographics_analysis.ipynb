{
 "cells": [
  {
   "cell_type": "code",
   "execution_count": null,
   "id": "initial_id",
   "metadata": {
    "ExecuteTime": {
     "end_time": "2024-04-16T12:40:35.723796Z",
     "start_time": "2024-04-16T12:40:29.126937Z"
    }
   },
   "outputs": [],
   "source": [
    "import pandas as pd"
   ]
  },
  {
   "cell_type": "markdown",
   "id": "fdb4e2764fc28ea1",
   "metadata": {
    "collapsed": false
   },
   "source": [
    "# Demographics Analysis"
   ]
  },
  {
   "cell_type": "code",
   "execution_count": null,
   "id": "15fcf42316279fbf",
   "metadata": {
    "ExecuteTime": {
     "end_time": "2024-04-16T12:46:07.657882Z",
     "start_time": "2024-04-16T12:46:07.643541Z"
    }
   },
   "outputs": [],
   "source": [
    "demographics_df = pd.read_csv('data/pre_study_survey.csv')\n",
    "demographics_df.columns = ['start_date', 'end_date', 'status', 'progress', 'duration', 'finished', 'recorded_date', 'response_id', 'dist_channel', 'user_lang', \n",
    "                           'participant_id', 'q2_gender', 'q2_gender_desc', 'q3_age', 'q4_ethnicity', 'q5_student_status', 'q5_student_status_other', \n",
    "                           'q6_undergrad_loc', 'q6_undergrad_loc_desc', 'q7_programming_exp', 'q8_programming_langs', 'q8_programming_lang_other', \n",
    "                           'q9_grading_experience', 'q10_grading_time', 'q11_grading_freq']\n",
    "demographics_df.drop(columns=['start_date', 'end_date', 'status', 'progress', 'duration', 'finished', 'recorded_date', 'response_id', 'dist_channel', 'user_lang'], inplace=True)\n",
    "demographics_df = demographics_df.iloc[2:]\n",
    "demographics_df"
   ]
  }
 ],
 "metadata": {
  "kernelspec": {
   "display_name": "Python 3",
   "language": "python",
   "name": "python3"
  },
  "language_info": {
   "codemirror_mode": {
    "name": "ipython",
    "version": 2
   },
   "file_extension": ".py",
   "mimetype": "text/x-python",
   "name": "python",
   "nbconvert_exporter": "python",
   "pygments_lexer": "ipython2",
   "version": "2.7.6"
  }
 },
 "nbformat": 4,
 "nbformat_minor": 5
}
