{
 "cells": [
  {
   "cell_type": "code",
   "execution_count": null,
   "metadata": {},
   "outputs": [],
   "source": [
    "import os\n",
    "import shutil\n",
    "import re"
   ]
  },
  {
   "cell_type": "markdown",
   "metadata": {
    "collapsed": false
   },
   "source": [
    "# Base Processor\n",
    "Clean the provided template code\n",
    "\n",
    "### Remove unnecessary files"
   ]
  },
  {
   "cell_type": "code",
   "execution_count": null,
   "metadata": {},
   "outputs": [],
   "source": [
    "TEMPLATE_PATH = \"../data/template\"\n",
    "\n",
    "for root, subdirs, files in os.walk(TEMPLATE_PATH):\n",
    "\n",
    "    for subdir in subdirs:\n",
    "        if subdir.startswith((\".\", \"_\")) or subdir == \"doc\" or subdir == 'META-INF' or subdir == 'out':\n",
    "            shutil.rmtree(os.path.join(root, subdir))\n",
    "\n",
    "    for file in files:\n",
    "        if file.lower().endswith((\".class\", \".ctxt\", \"~\", \".\", '.bluej', 'readme.txt')):\n",
    "            os.remove(os.path.abspath(os.path.join(\"./\", root, file)))\n",
    "\n",
    "        if file.lower().endswith((\".zip\", \".jar\")) and not 'lib' in root:\n",
    "            os.remove(os.path.abspath(os.path.join(\"./\", root, file)))"
   ]
  },
  {
   "cell_type": "markdown",
   "metadata": {
    "collapsed": false
   },
   "source": [
    "### Anonymize template code\n",
    "Remove @author annotation, so git it isn't picked up in git diff"
   ]
  },
  {
   "cell_type": "code",
   "execution_count": null,
   "metadata": {},
   "outputs": [],
   "source": [
    "AUTHOR_TAG_REGEX = '\\s*\\*\\s*@author.+'\n",
    "\n",
    "for root, _, files in os.walk(TEMPLATE_PATH):\n",
    "    for file in files:\n",
    "        if file.endswith(\".java\"):\n",
    "            with open(os.path.join(root, file), \"r\", encoding=\"ISO-8859-1\") as f:\n",
    "                source_code = f.read()\n",
    "\n",
    "            source_code = re.sub(AUTHOR_TAG_REGEX, \"\", source_code)\n",
    "\n",
    "            with open(os.path.join(root, file), \"w\", encoding='utf-8') as f:\n",
    "                f.write(source_code)\n"
   ]
  }
 ],
 "metadata": {
  "kernelspec": {
   "display_name": "Python 3",
   "language": "python",
   "name": "python3"
  },
  "language_info": {
   "codemirror_mode": {
    "name": "ipython",
    "version": 2
   },
   "file_extension": ".py",
   "mimetype": "text/x-python",
   "name": "python",
   "nbconvert_exporter": "python",
   "pygments_lexer": "ipython2",
   "version": "2.7.6"
  }
 },
 "nbformat": 4,
 "nbformat_minor": 0
}
