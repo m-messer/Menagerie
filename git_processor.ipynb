{
 "cells": [
  {
   "cell_type": "code",
   "execution_count": null,
   "metadata": {},
   "outputs": [],
   "source": [
    "import os\n",
    "import math\n",
    "from git import Repo\n",
    "import shutil"
   ]
  },
  {
   "cell_type": "markdown",
   "metadata": {
    "collapsed": false
   },
   "source": [
    "# GitLab Processor\n",
    "1. Create branch for the batch, batch size determined by the number of graders\n",
    "2. Copy batch size of submissions to GitLab Repo\n",
    "3. Commit and push manually"
   ]
  },
  {
   "cell_type": "code",
   "execution_count": null,
   "metadata": {},
   "outputs": [],
   "source": [
    "NUMBER_OF_GRADERS = 2\n",
    "\n",
    "PROC_PATH = \"data/proc\"\n",
    "TARGET_PATH = \"../assignment_dataset_anonymisation\""
   ]
  },
  {
   "cell_type": "code",
   "execution_count": null,
   "metadata": {},
   "outputs": [],
   "source": [
    "num_of_submissions = 0\n",
    "\n",
    "for directory in os.listdir(PROC_PATH):\n",
    "    if directory.startswith(\".\"):\n",
    "        continue\n",
    "\n",
    "    num_of_submissions += len(os.listdir(os.path.join(PROC_PATH, directory)))\n",
    "\n",
    "\n",
    "num_of_submissions"
   ]
  },
  {
   "cell_type": "code",
   "execution_count": null,
   "metadata": {},
   "outputs": [],
   "source": [
    "batch_size = math.ceil(num_of_submissions / NUMBER_OF_GRADERS)\n",
    "batch_size"
   ]
  },
  {
   "cell_type": "markdown",
   "metadata": {
    "collapsed": false
   },
   "source": [
    "### Create branches and copy submissions"
   ]
  },
  {
   "cell_type": "code",
   "execution_count": null,
   "metadata": {},
   "outputs": [],
   "source": [
    "counter = 0\n",
    "user_counter = 0\n",
    "\n",
    "repo = Repo(TARGET_PATH)\n",
    "git = repo.git\n",
    "\n",
    "branch_name = \"submissions_anonymiser_\" +  str(user_counter)\n",
    "git.checkout('main', b=branch_name)\n",
    "print(branch_name)\n",
    "\n",
    "for directory in os.listdir(PROC_PATH):\n",
    "    if directory.startswith(\".\"):\n",
    "        continue\n",
    "\n",
    "    for subdir in os.listdir(os.path.join(PROC_PATH, directory)):\n",
    "        counter += 1\n",
    "        if counter % batch_size == 0:\n",
    "            git.add('*')\n",
    "            git.commit('-m', 'Submissions for anonymiser ' + str(user_counter))\n",
    "\n",
    "            user_counter += 1\n",
    "            branch_name = \"submissions_anonymiser_\" +  str(user_counter)\n",
    "            git.checkout('main', b=branch_name)\n",
    "            print(branch_name)\n",
    "\n",
    "        shutil.copytree(\n",
    "            os.path.join(PROC_PATH, directory, subdir),\n",
    "            os.path.join(TARGET_PATH, directory, subdir),\n",
    "            dirs_exist_ok=True)\n",
    "\n",
    "        print(counter, os.path.join(PROC_PATH, directory, subdir), os.path.join(TARGET_PATH, directory, subdir))\n",
    "\n",
    "git.add('*')\n",
    "git.commit('-m', 'Submissions for anonymiser ' + str(user_counter))"
   ]
  }
 ],
 "metadata": {
  "kernelspec": {
   "display_name": "Python 3",
   "language": "python",
   "name": "python3"
  },
  "language_info": {
   "codemirror_mode": {
    "name": "ipython",
    "version": 2
   },
   "file_extension": ".py",
   "mimetype": "text/x-python",
   "name": "python",
   "nbconvert_exporter": "python",
   "pygments_lexer": "ipython2",
   "version": "2.7.6"
  }
 },
 "nbformat": 4,
 "nbformat_minor": 0
}
