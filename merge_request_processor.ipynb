{
 "cells": [
  {
   "cell_type": "code",
   "execution_count": null,
   "metadata": {},
   "outputs": [],
   "source": [
    "import requests\n",
    "from git import Repo\n",
    "import json"
   ]
  },
  {
   "cell_type": "markdown",
   "metadata": {
    "collapsed": false
   },
   "source": [
    "\n",
    "# Merge Request Processor\n"
   ]
  },
  {
   "cell_type": "code",
   "execution_count": null,
   "metadata": {},
   "outputs": [],
   "source": [
    "API_KEY = json.load(open('creds.json'))['API_KEY']\n",
    "BASE_URL = \"https://gitlab.bluej.org/api/v4\"\n",
    "PROJECT_ID = 74\n",
    "\n",
    "headers = {\"Authorization\": \"Bearer \" + API_KEY}"
   ]
  },
  {
   "cell_type": "markdown",
   "metadata": {
    "collapsed": false
   },
   "source": [
    "## Create merge requests"
   ]
  },
  {
   "cell_type": "code",
   "execution_count": null,
   "metadata": {},
   "outputs": [],
   "source": [
    "REPO_PATH = \"../assignment_dataset_anonymisation\"\n",
    "\n",
    "repo = Repo(REPO_PATH)\n",
    "branches = [branch.name for branch in repo.branches if branch.name != 'main']\n",
    "\n",
    "print(branches)"
   ]
  },
  {
   "cell_type": "code",
   "execution_count": null,
   "metadata": {},
   "outputs": [],
   "source": [
    "endpoint = '/'.join([BASE_URL, \"projects\", str(PROJECT_ID), \"merge_requests\"])\n",
    "\n",
    "r = requests.get(endpoint, headers=headers)\n",
    "\n",
    "assert r.status_code == 200, \"HTTP error: \" + r.text\n",
    "assert len(r.json()) == 0, \"Merge requests already exist\"\n",
    "\n",
    "\n",
    "for branch in branches:\n",
    "    data = {\n",
    "        \"id\": PROJECT_ID,\n",
    "        \"source_branch\": branch,\n",
    "        \"target_branch\": \"main\",\n",
    "        \"title\": \"Merge of batch: \" + branch\n",
    "    }\n",
    "\n",
    "    print(\"Creating merge request for: \" + branch)\n",
    "    r = requests.post(endpoint, data=data, headers=headers)\n",
    "\n",
    "    if r.status_code != 201:\n",
    "        print(str(r.status_code) + \": \" + r.text)"
   ]
  }
 ],
 "metadata": {
  "kernelspec": {
   "display_name": "Python 3",
   "language": "python",
   "name": "python3"
  },
  "language_info": {
   "codemirror_mode": {
    "name": "ipython",
    "version": 2
   },
   "file_extension": ".py",
   "mimetype": "text/x-python",
   "name": "python",
   "nbconvert_exporter": "python",
   "pygments_lexer": "ipython2",
   "version": "2.7.6"
  }
 },
 "nbformat": 4,
 "nbformat_minor": 0
}
