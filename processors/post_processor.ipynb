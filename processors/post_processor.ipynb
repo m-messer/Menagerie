{
 "cells": [
  {
   "cell_type": "code",
   "execution_count": null,
   "metadata": {},
   "outputs": [],
   "source": [
    "import os\n",
    "import shutil\n",
    "from git import Repo\n",
    "from PIL import Image, UnidentifiedImageError\n",
    "from pydub import AudioSegment\n",
    "import mimetypes\n",
    "from json import JSONDecodeError"
   ]
  },
  {
   "cell_type": "markdown",
   "metadata": {
    "collapsed": false
   },
   "source": [
    "### Post-Processing of Annoymised Data\n",
    "#### Copy Annoymised data back into working directory"
   ]
  },
  {
   "cell_type": "code",
   "execution_count": null,
   "metadata": {},
   "outputs": [],
   "source": [
    "DATA_PATH = \"../../assignment_dataset_anonymisation\"\n",
    "TARGET_PATH = \"../data/annoymised_unprocessed\"\n"
   ]
  },
  {
   "cell_type": "code",
   "execution_count": null,
   "metadata": {},
   "outputs": [],
   "source": [
    "repo = Repo(DATA_PATH)\n",
    "git = repo.git\n",
    "\n",
    "git.checkout('main')\n",
    "\n",
    "if 'behind' in git.status():\n",
    "    print(\"You must manually pull recent changes from main!\")\n",
    "else:\n",
    "    for directory in os.listdir(DATA_PATH):\n",
    "        if directory.startswith(\".\") or directory == \"README.md\":\n",
    "            continue\n",
    "\n",
    "        for subdir in os.listdir(os.path.join(DATA_PATH, directory)):\n",
    "            if subdir.startswith(\".\"):\n",
    "                continue\n",
    "\n",
    "            shutil.copytree(\n",
    "                os.path.join(DATA_PATH, directory, subdir),\n",
    "                os.path.join(TARGET_PATH, directory, subdir),\n",
    "                dirs_exist_ok=True)\n",
    "\n",
    "    print(\"Copy complete!\")"
   ]
  },
  {
   "cell_type": "markdown",
   "metadata": {
    "collapsed": false
   },
   "source": [
    "### Get file types"
   ]
  },
  {
   "cell_type": "code",
   "execution_count": null,
   "metadata": {},
   "outputs": [],
   "source": [
    "mimetypes.init()"
   ]
  },
  {
   "cell_type": "code",
   "execution_count": null,
   "metadata": {},
   "outputs": [],
   "source": [
    "# Adapted from: https://stackoverflow.com/questions/4292029/how-to-get-a-list-of-file-extensions-for-a-general-file-type\n",
    "\n",
    "def get_extensions_for_type(general_type):\n",
    "    for ext in mimetypes.types_map:\n",
    "        if mimetypes.types_map[ext].split('/')[0] == general_type:\n",
    "            yield ext\n",
    "\n",
    "VIDEO = tuple(get_extensions_for_type('video'))\n",
    "AUDIO = tuple(get_extensions_for_type('audio'))\n",
    "IMAGE = tuple(get_extensions_for_type('image'))"
   ]
  },
  {
   "cell_type": "markdown",
   "metadata": {
    "collapsed": false
   },
   "source": [
    "### Post-process\n",
    "#### Set default image"
   ]
  },
  {
   "cell_type": "code",
   "execution_count": null,
   "metadata": {},
   "outputs": [],
   "source": [
    "def process_images():\n",
    "    for root, _, files in os.walk(TARGET_PATH):\n",
    "        for file in files:\n",
    "            if file.lower().endswith(IMAGE):\n",
    "                img_path = os.path.join(root, file)\n",
    "\n",
    "                try:\n",
    "                    image = Image.open(img_path)\n",
    "                except UnidentifiedImageError:\n",
    "                    print(\"DELETING NON IMAGE FILE:\", img_path)\n",
    "                    os.remove(img_path)\n",
    "                    continue\n",
    "\n",
    "\n",
    "                image_data = image.getdata()\n",
    "\n",
    "                censored_image_data = [0] * len(image_data)\n",
    "                censored_image = Image.new(\"L\", image.size)\n",
    "                censored_image.putdata(censored_image_data)\n",
    "\n",
    "                censored_image.save(img_path)\n",
    "                \n",
    "    print(\"Processing complete!\")\n",
    "\n",
    "process_images()"
   ]
  },
  {
   "cell_type": "markdown",
   "metadata": {
    "collapsed": false
   },
   "source": [
    "#### Set default audio"
   ]
  },
  {
   "cell_type": "code",
   "execution_count": null,
   "metadata": {},
   "outputs": [],
   "source": [
    "def process_audio():\n",
    "    for root, _, files in os.walk(TARGET_PATH):\n",
    "        for file in files:\n",
    "            if file.lower().endswith(AUDIO):\n",
    "                audio_path = os.path.join(root, file)\n",
    "                _, file_ext = os.path.splitext(audio_path)\n",
    "\n",
    "                match file_ext:\n",
    "                    case \".wav\":\n",
    "                        audio = AudioSegment.from_wav(audio_path)\n",
    "                        silenced_audio = audio - 1000\n",
    "                        silenced_audio.export(audio_path, format='wav')\n",
    "                    case \".mp3\":\n",
    "                        try:\n",
    "                            audio = AudioSegment.from_file(audio_path)\n",
    "                        except JSONDecodeError:\n",
    "                            print(\"UNABLE TO PROCESS: \", audio_path)\n",
    "                            continue\n",
    "\n",
    "                        silenced_audio = audio - 1000\n",
    "                        silenced_audio.export(audio_path, format='mp3')\n",
    "                    case _:\n",
    "                        print(\"UNPROCESSED AUDIO FILE TYPE\", file_ext, file)\n",
    "\n",
    "    print(\"Processing complete!\")\n",
    "\n",
    "process_audio()"
   ]
  },
  {
   "cell_type": "markdown",
   "metadata": {
    "collapsed": false
   },
   "source": [
    "### Check for Video"
   ]
  },
  {
   "cell_type": "code",
   "execution_count": null,
   "metadata": {},
   "outputs": [],
   "source": [
    "count_of_video_files = 0\n",
    "\n",
    "for root, _, files in os.walk(TARGET_PATH):\n",
    "    for file in files:\n",
    "        if file.lower().endswith(VIDEO):\n",
    "            count_of_video_files += 1\n",
    "\n",
    "print(\"Number of video files: \", count_of_video_files)"
   ]
  },
  {
   "cell_type": "markdown",
   "metadata": {
    "collapsed": false
   },
   "source": []
  },
  {
   "cell_type": "markdown",
   "metadata": {
    "collapsed": false
   },
   "source": [
    "#### Renumber assignments"
   ]
  },
  {
   "cell_type": "code",
   "execution_count": null,
   "metadata": {},
   "outputs": [],
   "source": [
    "count = 0\n",
    "\n",
    "FINAL_PATH = \"../data/anonymised_assignments\"\n",
    "\n",
    "for path in sorted(os.listdir(TARGET_PATH)):\n",
    "    rel_path = os.path.join(TARGET_PATH, path)\n",
    "    if os.path.isdir(rel_path):\n",
    "        for submission in os.listdir(rel_path):\n",
    "            old_path = os.path.join(rel_path, submission)\n",
    "            if os.path.isdir(old_path):\n",
    "                new_path = \"_\".join(old_path.split('_')[:2]) + \"_\" + str(count)\n",
    "                new_path = new_path.replace(\"annoymised_unprocessed\", \"anonymised_assignments\")\n",
    "                print(old_path, count, new_path)\n",
    "                shutil.copytree(old_path, new_path, dirs_exist_ok=True)\n",
    "                count += 1"
   ]
  }
 ],
 "metadata": {
  "kernelspec": {
   "display_name": "Python 3",
   "language": "python",
   "name": "python3"
  },
  "language_info": {
   "codemirror_mode": {
    "name": "ipython",
    "version": 2
   },
   "file_extension": ".py",
   "mimetype": "text/x-python",
   "name": "python",
   "nbconvert_exporter": "python",
   "pygments_lexer": "ipython2",
   "version": "2.7.6"
  }
 },
 "nbformat": 4,
 "nbformat_minor": 0
}
