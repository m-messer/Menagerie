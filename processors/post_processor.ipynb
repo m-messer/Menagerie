{
 "cells": [
  {
   "cell_type": "code",
   "execution_count": null,
   "metadata": {},
   "outputs": [],
   "source": [
    "import os\n",
    "import shutil\n",
    "from git import Repo\n",
    "from PIL import Image"
   ]
  },
  {
   "cell_type": "markdown",
   "metadata": {
    "collapsed": false
   },
   "source": [
    "### Post-Processing of Annoymised Data\n",
    "#### Copy Annoymised data back into working directory"
   ]
  },
  {
   "cell_type": "code",
   "execution_count": null,
   "metadata": {},
   "outputs": [],
   "source": [
    "DATA_PATH = \"../../assignment_dataset_anonymisation\"\n",
    "TARGET_PATH = \"../data/annoymised\"\n",
    "\n",
    "repo = Repo(DATA_PATH)\n",
    "git = repo.git\n",
    "\n",
    "git.checkout('main')\n",
    "\n",
    "if 'behind' in git.status():\n",
    "    print(\"You must manually pull recent changes from main!\")\n",
    "else:\n",
    "    for directory in os.listdir(DATA_PATH):\n",
    "        if directory.startswith(\".\") or directory == \"README.md\":\n",
    "            continue\n",
    "\n",
    "        for subdir in os.listdir(os.path.join(DATA_PATH, directory)):\n",
    "            if subdir.startswith(\".\"):\n",
    "                continue\n",
    "\n",
    "            shutil.copytree(\n",
    "                os.path.join(DATA_PATH, directory, subdir),\n",
    "                os.path.join(TARGET_PATH, directory, subdir),\n",
    "                dirs_exist_ok=True)\n",
    "\n",
    "    print(\"Copy complete!\")"
   ]
  },
  {
   "cell_type": "markdown",
   "metadata": {
    "collapsed": false
   },
   "source": [
    "### Post-process\n",
    "#### Set default image"
   ]
  },
  {
   "cell_type": "code",
   "execution_count": null,
   "metadata": {},
   "outputs": [],
   "source": [
    "def process_images():\n",
    "    for root, _, files in os.walk(TARGET_PATH):\n",
    "        for file in files:\n",
    "            if file.lower().endswith(('.png', '.jpg', '.jpeg', '.tiff', '.bmp', '.gif')):\n",
    "                img_path = os.path.join(root, file)\n",
    "\n",
    "                image = Image.open(img_path)\n",
    "                image_data = image.getdata()\n",
    "\n",
    "                censored_image_data = [0] * len(image_data)\n",
    "                censored_image = Image.new(\"L\", image.size)\n",
    "                censored_image.putdata(censored_image_data)\n",
    "\n",
    "                censored_image.save(img_path)\n",
    "                \n",
    "    print(\"Processing complete!\")\n",
    "\n",
    "process_images()"
   ]
  },
  {
   "cell_type": "markdown",
   "metadata": {
    "collapsed": false
   },
   "source": [
    "#### Set default audio"
   ]
  },
  {
   "cell_type": "markdown",
   "metadata": {
    "collapsed": false
   },
   "source": []
  }
 ],
 "metadata": {
  "kernelspec": {
   "display_name": "Python 3",
   "language": "python",
   "name": "python3"
  },
  "language_info": {
   "codemirror_mode": {
    "name": "ipython",
    "version": 2
   },
   "file_extension": ".py",
   "mimetype": "text/x-python",
   "name": "python",
   "nbconvert_exporter": "python",
   "pygments_lexer": "ipython2",
   "version": "2.7.6"
  }
 },
 "nbformat": 4,
 "nbformat_minor": 0
}
