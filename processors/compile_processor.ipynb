{
 "cells": [
  {
   "cell_type": "code",
   "execution_count": null,
   "metadata": {},
   "outputs": [],
   "source": [
    "import os, subprocess\n",
    "from subprocess import CalledProcessError\n",
    "from pathlib import Path\n",
    "import pickle"
   ]
  },
  {
   "cell_type": "markdown",
   "metadata": {
    "collapsed": false
   },
   "source": [
    "## Compile Processor\n",
    "Used to compile all assignments and generate list of compile time exceptions that might have been caused by the preprocessing and anonymistation steps"
   ]
  },
  {
   "cell_type": "code",
   "execution_count": null,
   "metadata": {},
   "outputs": [],
   "source": [
    "exceptions_map = {}"
   ]
  },
  {
   "cell_type": "code",
   "execution_count": null,
   "metadata": {},
   "outputs": [],
   "source": [
    "def compile_java(java_file):\n",
    "    try:\n",
    "        subprocess.run(['javac', java_file], check=True, capture_output=True)\n",
    "    except CalledProcessError as e:\n",
    "        exceptions_map[java_file] = str(e.stderr)"
   ]
  },
  {
   "cell_type": "code",
   "execution_count": null,
   "metadata": {},
   "outputs": [],
   "source": [
    "BASE_PATH = '../data/annoymised_final'\n",
    "EXCEPTION_PATH = '../data/exceptions.pickle'"
   ]
  },
  {
   "cell_type": "code",
   "execution_count": null,
   "metadata": {},
   "outputs": [],
   "source": [
    "if not Path(EXCEPTION_PATH).exists():\n",
    "    for root, _, files in os.walk(BASE_PATH):\n",
    "        for file in files:\n",
    "            if file.endswith('.java'):\n",
    "                compile_java(os.path.join(root, file))\n",
    "\n",
    "    with open(EXCEPTION_PATH, 'wb') as f:\n",
    "        pickle.dump(exceptions_map, f)"
   ]
  },
  {
   "cell_type": "markdown",
   "metadata": {
    "collapsed": false
   },
   "source": [
    "### Load Saved Exception Messages"
   ]
  },
  {
   "cell_type": "code",
   "execution_count": null,
   "metadata": {},
   "outputs": [],
   "source": [
    "with open(EXCEPTION_PATH, 'rb') as f:\n",
    "    exceptions_dict = pickle.load(f)"
   ]
  }
 ],
 "metadata": {
  "kernelspec": {
   "display_name": "Python 3",
   "language": "python",
   "name": "python3"
  },
  "language_info": {
   "codemirror_mode": {
    "name": "ipython",
    "version": 2
   },
   "file_extension": ".py",
   "mimetype": "text/x-python",
   "name": "python",
   "nbconvert_exporter": "python",
   "pygments_lexer": "ipython2",
   "version": "2.7.6"
  }
 },
 "nbformat": 4,
 "nbformat_minor": 0
}
