{
 "cells": [
  {
   "cell_type": "code",
   "execution_count": null,
   "metadata": {},
   "outputs": [],
   "source": [
    "import os\n",
    "import random\n",
    "import shutil\n",
    "import pandas as pd"
   ]
  },
  {
   "cell_type": "markdown",
   "metadata": {
    "collapsed": false
   },
   "source": [
    "### Batch Processing\n",
    "Used to generate batches for manual grading\n",
    "\n",
    "#### Get list of all submissions"
   ]
  },
  {
   "cell_type": "code",
   "execution_count": null,
   "metadata": {},
   "outputs": [],
   "source": [
    "ANON_PATH = \"../data/annoymised_final\"\n",
    "\n",
    "submissions = []\n",
    "\n",
    "for path in os.listdir(ANON_PATH):\n",
    "    for subpath in os.listdir(os.path.join(ANON_PATH, path)):\n",
    "        submissions.append(os.path.join(ANON_PATH, path, subpath))\n",
    "\n",
    "print(submissions[:10])"
   ]
  },
  {
   "cell_type": "markdown",
   "metadata": {
    "collapsed": false
   },
   "source": [
    "#### Create sampled batches"
   ]
  },
  {
   "cell_type": "code",
   "execution_count": null,
   "metadata": {},
   "outputs": [],
   "source": [
    "SUBMISSIONS_PER_BATCH = 20\n",
    "NUMBER_OF_BATCHES = 2\n",
    "\n",
    "submissions_set = set(submissions)\n",
    "\n",
    "batches = []\n",
    "\n",
    "for i in range(NUMBER_OF_BATCHES):\n",
    "    sample = random.sample(sorted(submissions_set), SUBMISSIONS_PER_BATCH)\n",
    "    batches.append(sample)\n",
    "    submissions_set -= set(sample)\n",
    "\n",
    "print(batches)"
   ]
  },
  {
   "cell_type": "markdown",
   "metadata": {
    "collapsed": false
   },
   "source": [
    "#### Copy Batches to directory"
   ]
  },
  {
   "cell_type": "code",
   "execution_count": null,
   "metadata": {},
   "outputs": [],
   "source": [
    "BATCHES_PATH = \"../data/batches\"\n",
    "\n",
    "if not os.path.isdir(BATCHES_PATH):\n",
    "    os.mkdir(BATCHES_PATH)\n",
    "\n",
    "for i in range(len(batches)):\n",
    "    path = os.path.join(BATCHES_PATH, str(i))\n",
    "    os.mkdir(path)\n",
    "\n",
    "    for submission in batches[i]:\n",
    "        split = submission.split('/')\n",
    "        new_path = os.path.join(path, split[len(split) - 1])\n",
    "\n",
    "        shutil.copytree(submission, new_path)"
   ]
  },
  {
   "cell_type": "markdown",
   "metadata": {
    "collapsed": false
   },
   "source": [
    "#### Create CSV of \"students\" for Gradescope"
   ]
  },
  {
   "cell_type": "code",
   "execution_count": null,
   "metadata": {},
   "outputs": [],
   "source": [
    "roster = []\n",
    "\n",
    "for i in range(len(batches)):\n",
    "    for submission in batches[i]:\n",
    "        submission_number = submission.split('_')[3]\n",
    "\n",
    "        roster.append([submission_number, '', submission_number + '@study.edu'])\n",
    "\n",
    "    roster_df = pd.DataFrame(roster)\n",
    "    roster_df.columns = ['First Name', 'Last Name', 'Email']\n",
    "    roster_df.to_csv(os.path.join(BATCHES_PATH, str(i), 'roster.csv'))"
   ]
  }
 ],
 "metadata": {
  "kernelspec": {
   "display_name": "Python 3",
   "language": "python",
   "name": "python3"
  },
  "language_info": {
   "codemirror_mode": {
    "name": "ipython",
    "version": 2
   },
   "file_extension": ".py",
   "mimetype": "text/x-python",
   "name": "python",
   "nbconvert_exporter": "python",
   "pygments_lexer": "ipython2",
   "version": "2.7.6"
  }
 },
 "nbformat": 4,
 "nbformat_minor": 0
}
