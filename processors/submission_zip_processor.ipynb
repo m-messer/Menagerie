{
 "cells": [
  {
   "cell_type": "code",
   "execution_count": null,
   "metadata": {},
   "outputs": [],
   "source": [
    "import shutil\n",
    "import os"
   ]
  },
  {
   "cell_type": "markdown",
   "metadata": {
    "collapsed": false
   },
   "source": [
    "# Re-Zip Submissions that have been made compilable"
   ]
  },
  {
   "cell_type": "code",
   "execution_count": null,
   "metadata": {},
   "outputs": [],
   "source": [
    "CHANGED_SUBMISSIONS = '../data/changed_submissions_old.txt'\n",
    "\n",
    "with open(CHANGED_SUBMISSIONS) as f:\n",
    "    for line in f:\n",
    "        path = line.strip().replace('\\n', '')\n",
    "\n",
    "        os.remove(os.path.abspath(path + '.zip'))\n",
    "        shutil.make_archive(path, \"zip\", path)"
   ]
  }
 ],
 "metadata": {
  "kernelspec": {
   "display_name": "Python 3",
   "language": "python",
   "name": "python3"
  },
  "language_info": {
   "codemirror_mode": {
    "name": "ipython",
    "version": 2
   },
   "file_extension": ".py",
   "mimetype": "text/x-python",
   "name": "python",
   "nbconvert_exporter": "python",
   "pygments_lexer": "ipython2",
   "version": "2.7.6"
  }
 },
 "nbformat": 4,
 "nbformat_minor": 0
}
