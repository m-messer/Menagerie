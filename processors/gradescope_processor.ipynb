{
 "cells": [
  {
   "cell_type": "code",
   "execution_count": null,
   "metadata": {},
   "outputs": [],
   "source": [
    "import os\n",
    "from selenium import webdriver\n",
    "from selenium.webdriver.common.by import By\n",
    "from selenium.webdriver.common.keys import Keys"
   ]
  },
  {
   "cell_type": "markdown",
   "metadata": {
    "collapsed": false
   },
   "source": [
    "### Gradscope Processor\n",
    "Used to upload submissions to Gradescope for grading and feedback"
   ]
  },
  {
   "cell_type": "markdown",
   "metadata": {
    "collapsed": false
   },
   "source": [
    "#### Plan\n",
    "\n",
    "1. Manually create courses, assignments (batches) and upload rosters\n",
    "2. Automate uploading of submission zip files\n"
   ]
  },
  {
   "cell_type": "markdown",
   "metadata": {
    "collapsed": false
   },
   "source": [
    "#### Define assignment (batch) URLs and batches to use"
   ]
  },
  {
   "cell_type": "code",
   "execution_count": null,
   "metadata": {},
   "outputs": [],
   "source": [
    "ASSIGNMENT_URLS = ['https://www.gradescope.com/courses/660638/assignments/4096620/submissions']\n",
    "BATCH_PATH = '../data/batches/test/0'"
   ]
  },
  {
   "cell_type": "markdown",
   "metadata": {
    "collapsed": false
   },
   "source": [
    "#### Setup Selenium"
   ]
  },
  {
   "cell_type": "code",
   "execution_count": null,
   "metadata": {},
   "outputs": [],
   "source": [
    "browser = webdriver.Firefox()\n",
    "# Manually sign in"
   ]
  },
  {
   "cell_type": "code",
   "execution_count": null,
   "metadata": {},
   "outputs": [],
   "source": [
    "browser.get(ASSIGNMENT_URLS[0])\n",
    "upload_btn_icon = browser.find_element(By.CLASS_NAME, 'fa-upload')\n",
    "upload_btn_icon.find_element(By.XPATH, './..').click()"
   ]
  },
  {
   "cell_type": "code",
   "execution_count": null,
   "metadata": {},
   "outputs": [],
   "source": [
    "file_input = browser.find_element(By.CSS_SELECTOR, \"input[type='file']\")\n",
    "file_input.send_keys(os.path.abspath(os.path.join(BATCH_PATH, '19~20_Submission_163.zip')))"
   ]
  },
  {
   "cell_type": "code",
   "execution_count": null,
   "metadata": {},
   "outputs": [],
   "source": [
    "student_name_txt_box = browser.find_element(By.CLASS_NAME, 'studentPicker')\\\n",
    "    .find_element(By.CLASS_NAME, 'selectize-input ').find_element(By.TAG_NAME, 'input')\n",
    "student_name_txt_box.send_keys('123')"
   ]
  },
  {
   "cell_type": "code",
   "execution_count": null,
   "metadata": {},
   "outputs": [],
   "source": [
    "browser.find_element(By.CLASS_NAME, \"js-submitCode\").click()"
   ]
  },
  {
   "cell_type": "markdown",
   "metadata": {
    "collapsed": false
   },
   "source": [
    "#### For each zip file upload to Gradescope for each URL"
   ]
  },
  {
   "cell_type": "code",
   "execution_count": null,
   "metadata": {},
   "outputs": [],
   "source": [
    "def upload_batch(assignment_url):\n",
    "    browser.get(assignment_url)\n",
    "\n",
    "    # Open upload modal\n",
    "    upload_btn_icon = browser.find_element(By.CLASS_NAME, 'fa-upload')\n",
    "    upload_btn_icon.find_element(By.XPATH, './..').click()\n",
    "\n",
    "    for file_name in os.listdir(BATCH_PATH):\n",
    "        if file_name.endswith('.zip'):\n",
    "            # Add Zip File\n",
    "            file_input = browser.find_element(By.CSS_SELECTOR, \"input[type='file']\")\n",
    "            file_input.send_keys(os.path.abspath(os.path.join(BATCH_PATH, file_name)))\n",
    "\n",
    "            # Add student name\n",
    "            student_id = file_name.split('_')[2].replace('.zip', '')\n",
    "            student_name_txt_box = browser.find_element(By.CLASS_NAME, 'studentPicker')\\\n",
    "                .find_element(By.CLASS_NAME, 'selectize-input ').find_element(By.TAG_NAME, 'input')\n",
    "            student_name_txt_box.send_keys(student_id, Keys.RETURN)\n",
    "\n",
    "            # Upload\n",
    "            browser.find_element(By.CLASS_NAME, \"js-submitCode\").click()\n",
    "\n",
    "upload_batch(ASSIGNMENT_URLS[0])"
   ]
  }
 ],
 "metadata": {
  "kernelspec": {
   "display_name": "Python 3",
   "language": "python",
   "name": "python3"
  },
  "language_info": {
   "codemirror_mode": {
    "name": "ipython",
    "version": 2
   },
   "file_extension": ".py",
   "mimetype": "text/x-python",
   "name": "python",
   "nbconvert_exporter": "python",
   "pygments_lexer": "ipython2",
   "version": "2.7.6"
  }
 },
 "nbformat": 4,
 "nbformat_minor": 0
}
