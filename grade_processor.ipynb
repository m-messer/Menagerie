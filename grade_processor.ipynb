{
 "cells": [
  {
   "cell_type": "code",
   "execution_count": null,
   "id": "initial_id",
   "metadata": {
    "ExecuteTime": {
     "end_time": "2024-04-16T15:30:52.830805Z",
     "start_time": "2024-04-16T15:30:52.828117Z"
    }
   },
   "outputs": [],
   "source": [
    "import os\n",
    "import pandas as pd"
   ]
  },
  {
   "cell_type": "markdown",
   "id": "ddb6911cdbafc00d",
   "metadata": {
    "collapsed": false
   },
   "source": [
    "# Grade Processor"
   ]
  },
  {
   "cell_type": "markdown",
   "id": "ec572cfc0fbf10bd",
   "metadata": {
    "collapsed": false
   },
   "source": [
    "TODO:\n",
    "1. Replace duplicated IDs with thier actual IDs?"
   ]
  },
  {
   "cell_type": "markdown",
   "id": "1a4ede9426f02de",
   "metadata": {
    "collapsed": false
   },
   "source": [
    "### Unzip files"
   ]
  },
  {
   "cell_type": "code",
   "execution_count": null,
   "id": "ccd1c1e119e0cf39",
   "metadata": {
    "ExecuteTime": {
     "end_time": "2024-04-16T15:00:49.310002Z",
     "start_time": "2024-04-16T15:00:49.301579Z"
    }
   },
   "outputs": [],
   "source": [
    "RAW_GRADES_PATH = 'data/grades/raw'\n",
    "\n",
    "for root, _, files in os.walk(RAW_GRADES_PATH):\n",
    "    for file in files:\n",
    "        if not file.endswith('.zip'):\n",
    "            continue\n",
    "    \n",
    "        path = os.path.join(root, file)\n",
    "        try:\n",
    "            os.system('unzip ' + path + \" -d ./ >/dev/null 2>&1\")\n",
    "            os.remove(path)\n",
    "        except FileNotFoundError:\n",
    "            print(\"Failed to unzip: \", path)\n",
    "            continue"
   ]
  },
  {
   "cell_type": "markdown",
   "id": "4e3aa009d04b0cb",
   "metadata": {
    "collapsed": false
   },
   "source": []
  },
  {
   "cell_type": "code",
   "execution_count": null,
   "id": "9c5c9df3a34aaf81",
   "metadata": {
    "ExecuteTime": {
     "end_time": "2024-04-16T16:28:08.156173Z",
     "start_time": "2024-04-16T16:28:08.151696Z"
    }
   },
   "outputs": [],
   "source": [
    "def process_csv(path, skill, participant_id, batch):\n",
    "    temp_df = pd.read_csv(path,\n",
    "                          usecols=['Name', 'A: A++', 'A: A+', 'A: A', 'A: A-', \n",
    "                                   'B: B+', 'B: B', 'B: B-', \n",
    "                                   'C: C+', 'C: C', 'C: C-',\n",
    "                                   'D: D+', 'D: D', 'D: D-',\n",
    "                                   'F', 'Comments'])\n",
    "    temp_df['skill'] = skill\n",
    "    temp_df['participant_id'] = participant_id\n",
    "    temp_df['batch'] = batch\n",
    "    temp_df = temp_df.iloc[:20]\n",
    "    \n",
    "    for col in temp_df.columns:\n",
    "        if ':' in col :\n",
    "            temp_df[col] = temp_df[col].astype(str).str.upper().replace('TRUE', col.split(': ')[1])\n",
    "        elif col == 'F':\n",
    "            temp_df[col] = temp_df[col].astype(str).str.upper().replace('TRUE', 'F')\n",
    "        else:\n",
    "            continue\n",
    "            \n",
    "        temp_df[col] = temp_df[col].astype(str).str.upper().replace('FALSE', None)\n",
    "    \n",
    "    grade_col = (temp_df['A: A++'].combine_first(temp_df['A: A+'])\n",
    "                 .combine_first(temp_df['A: A'])\n",
    "                 .combine_first(temp_df['A: A-'])\n",
    "                 .combine_first(temp_df['B: B+'])\n",
    "                 .combine_first(temp_df['B: B'])\n",
    "                 .combine_first(temp_df['B: B-'])\n",
    "                 .combine_first(temp_df['C: C+'])\n",
    "                 .combine_first(temp_df['C: C'])\n",
    "                 .combine_first(temp_df['C: C-'])\n",
    "                 .combine_first(temp_df['D: D+'])\n",
    "                 .combine_first(temp_df['D: D'])\n",
    "                 .combine_first(temp_df['D: D-'])\n",
    "                 # .combine_first(temp_df['F'])\n",
    "                 )\n",
    "    \n",
    "    temp_df['grade'] = temp_df['F'].combine_first(grade_col)\n",
    "    temp_df.drop(columns=['A: A++', 'A: A+', 'A: A', 'A: A-',\n",
    "                          'B: B+', 'B: B', 'B: B-',\n",
    "                          'C: C+', 'C: C', 'C: C-',\n",
    "                          'D: D+', 'D: D', 'D: D-',\n",
    "                          'F'], inplace=True)\n",
    "    \n",
    "    return temp_df"
   ]
  },
  {
   "cell_type": "code",
   "execution_count": null,
   "id": "166244887488c3c4",
   "metadata": {
    "ExecuteTime": {
     "end_time": "2024-04-16T16:30:32.777407Z",
     "start_time": "2024-04-16T16:30:31.463428Z"
    }
   },
   "outputs": [],
   "source": [
    "grade_df = None\n",
    "\n",
    "for root, _, files in os.walk(RAW_GRADES_PATH):\n",
    "    split = root.split('_')\n",
    "    \n",
    "    if len(split) == 1:\n",
    "        continue\n",
    "    \n",
    "    participant_id = split[4]\n",
    "    \n",
    "    if len(split) == 9:\n",
    "        batch = 1\n",
    "    else:\n",
    "        batch = 2\n",
    "        \n",
    "    for file in files:\n",
    "        skill = file[2:-4].replace('_', ' ')\n",
    "        \n",
    "        if 'Correctness' in file or 'Code_Elegance' in file or 'Readability' in file or 'Documentation' in file:\n",
    "            try:\n",
    "                if grade_df is None:\n",
    "                    grade_df = process_csv(os.path.join(root, file), skill, participant_id, batch)\n",
    "                else:\n",
    "                    grade_df = pd.concat([grade_df, process_csv(os.path.join(root, file), skill, participant_id, batch)])\n",
    "            except ValueError as e:\n",
    "                print('Error processing: ', os.path.join(root, file))\n",
    "                print(e)\n",
    "\n",
    "grade_df.rename(columns={'Name': 'assignment_number', 'Comments': 'comments'}, inplace=True)\n",
    "grade_df"
   ]
  },
  {
   "cell_type": "markdown",
   "id": "c002695fcc4937b6",
   "metadata": {
    "collapsed": false
   },
   "source": [
    "#### Assignments Missing Grades"
   ]
  },
  {
   "cell_type": "code",
   "execution_count": null,
   "id": "d78b7174547da53b",
   "metadata": {
    "ExecuteTime": {
     "end_time": "2024-04-16T16:34:30.364451Z",
     "start_time": "2024-04-16T16:34:30.356962Z"
    }
   },
   "outputs": [],
   "source": [
    "grade_df[grade_df['grade'].isnull()]"
   ]
  },
  {
   "cell_type": "code",
   "execution_count": null,
   "id": "b2d283bca5412974",
   "metadata": {
    "ExecuteTime": {
     "end_time": "2024-04-16T16:36:26.791800Z",
     "start_time": "2024-04-16T16:36:26.769858Z"
    }
   },
   "outputs": [],
   "source": [
    "grade_df.to_csv('data/grades.csv')"
   ]
  }
 ],
 "metadata": {
  "kernelspec": {
   "display_name": "Python 3",
   "language": "python",
   "name": "python3"
  },
  "language_info": {
   "codemirror_mode": {
    "name": "ipython",
    "version": 2
   },
   "file_extension": ".py",
   "mimetype": "text/x-python",
   "name": "python",
   "nbconvert_exporter": "python",
   "pygments_lexer": "ipython2",
   "version": "2.7.6"
  }
 },
 "nbformat": 4,
 "nbformat_minor": 5
}
